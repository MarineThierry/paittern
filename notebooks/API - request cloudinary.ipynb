{
 "cells": [
  {
   "cell_type": "code",
   "execution_count": 1,
   "id": "e1196f14",
   "metadata": {},
   "outputs": [],
   "source": [
    "import cloudinary\n",
    "import cloudinary.uploader"
   ]
  },
  {
   "cell_type": "code",
   "execution_count": 2,
   "id": "a5662a12",
   "metadata": {},
   "outputs": [],
   "source": [
    "import requests"
   ]
  },
  {
   "cell_type": "code",
   "execution_count": 3,
   "id": "81faaf8e",
   "metadata": {},
   "outputs": [
    {
     "data": {
      "text/plain": [
       "True"
      ]
     },
     "execution_count": 3,
     "metadata": {},
     "output_type": "execute_result"
    }
   ],
   "source": [
    "import os\n",
    "from os.path import join,dirname\n",
    "from dotenv import load_dotenv, find_dotenv\n",
    "\n",
    "# point to .env file\n",
    "env_path = join(dirname(dirname('__file__')),'.env') # ../.env\n",
    "env_path = find_dotenv() # automatic find \n",
    "\n",
    "# load your api key as environment variables\n",
    "load_dotenv(env_path)\n",
    "\n",
    "\n"
   ]
  },
  {
   "cell_type": "code",
   "execution_count": 4,
   "id": "e3567b7b",
   "metadata": {},
   "outputs": [
    {
     "data": {
      "text/plain": [
       "<cloudinary.Config at 0x1110939d0>"
      ]
     },
     "execution_count": 4,
     "metadata": {},
     "output_type": "execute_result"
    }
   ],
   "source": [
    "cloudinary.config( \n",
    "  cloud_name = \"paittern\", \n",
    "  api_key = os.getenv('CLOUDINARY_API_KEY'),api_secret = os.getenv('CLOUDINARY_API_SECRET'),\n",
    "  secure = True\n",
    ")"
   ]
  },
  {
   "cell_type": "code",
   "execution_count": 13,
   "id": "868ad826",
   "metadata": {},
   "outputs": [
    {
     "data": {
      "text/plain": [
       "{'asset_id': 'fa9c980af6ee1ab411b8636fcbd7b970',\n",
       " 'public_id': 'test',\n",
       " 'version': 1646661019,\n",
       " 'version_id': '02821ad679b9b59cb64ccf4b722c5a06',\n",
       " 'signature': '0b5177bad57dac4138d7935f65b17a9c44a45604',\n",
       " 'width': 1080,\n",
       " 'height': 720,\n",
       " 'format': 'mov',\n",
       " 'resource_type': 'video',\n",
       " 'created_at': '2022-03-07T13:50:19Z',\n",
       " 'tags': [],\n",
       " 'bytes': 8559826,\n",
       " 'type': 'upload',\n",
       " 'etag': 'badaa35e69315de83bd7076faaf997b8',\n",
       " 'placeholder': False,\n",
       " 'url': 'http://res.cloudinary.com/paittern/video/upload/v1646661019/test.mov',\n",
       " 'secure_url': 'https://res.cloudinary.com/paittern/video/upload/v1646661019/test.mov',\n",
       " 'access_mode': 'public',\n",
       " 'existing': True}"
      ]
     },
     "execution_count": 13,
     "metadata": {},
     "output_type": "execute_result"
    }
   ],
   "source": [
    "cloudinary.uploader.unsigned_upload(\"../raw_data/input_video/test_keypoint_v1.mov\",resource_type='video',upload_preset='paittern', public_id = \"test\")"
   ]
  },
  {
   "cell_type": "code",
   "execution_count": 14,
   "id": "5a6d24b5",
   "metadata": {},
   "outputs": [
    {
     "data": {
      "text/plain": [
       "<Response [200]>"
      ]
     },
     "execution_count": 14,
     "metadata": {},
     "output_type": "execute_result"
    }
   ],
   "source": [
    "url = f'http://res.cloudinary.com/paittern/video/upload/v1646661019/test.mov'\n",
    "response = requests.get(url)\n",
    "\n",
    "response\n"
   ]
  },
  {
   "cell_type": "code",
   "execution_count": null,
   "id": "8ea113bb",
   "metadata": {},
   "outputs": [],
   "source": [
    "curl https://api.cloudinary.com/v1_1/<CLOUD_NAME>/image/upload -X POST --data 'file=<FILE>&timestamp=<TIMESTAMP>&api_key=<API_KEY>&signature=<SIGNATURE>'"
   ]
  }
 ],
 "metadata": {
  "kernelspec": {
   "display_name": "Python 3 (ipykernel)",
   "language": "python",
   "name": "python3"
  },
  "language_info": {
   "codemirror_mode": {
    "name": "ipython",
    "version": 3
   },
   "file_extension": ".py",
   "mimetype": "text/x-python",
   "name": "python",
   "nbconvert_exporter": "python",
   "pygments_lexer": "ipython3",
   "version": "3.8.12"
  },
  "toc": {
   "base_numbering": 1,
   "nav_menu": {},
   "number_sections": true,
   "sideBar": true,
   "skip_h1_title": false,
   "title_cell": "Table of Contents",
   "title_sidebar": "Contents",
   "toc_cell": false,
   "toc_position": {},
   "toc_section_display": true,
   "toc_window_display": false
  }
 },
 "nbformat": 4,
 "nbformat_minor": 5
}
