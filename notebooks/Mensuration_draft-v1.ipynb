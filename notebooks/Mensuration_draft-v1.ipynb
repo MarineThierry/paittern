{
 "cells": [
  {
   "cell_type": "markdown",
   "id": "0ee82d46",
   "metadata": {},
   "source": [
    "# Definiton of all measurements"
   ]
  },
  {
   "cell_type": "markdown",
   "id": "b838e2ce",
   "metadata": {},
   "source": [
    "## Denition of KeyPoints"
   ]
  },
  {
   "cell_type": "code",
   "execution_count": 1,
   "id": "f06622c2",
   "metadata": {},
   "outputs": [],
   "source": [
    "# 'nose',                                   pos 0\n",
    "#'left_eye', 'right_eye',                   pos 1 / 2\n",
    "# 'left_ear', 'right_ear',                  pos 3 / 4\n",
    "# 'left_shoulder', 'right_shoulder',        pos 5 / 6\n",
    "# 'left_elbow', 'right_elbow',              pos 7 / 8\n",
    "# 'left_wrist', 'right_wrist',              pos 9 / 10\n",
    "# 'left_hip', 'right_hip',                  pos 11 / 12\n",
    "# 'left_knee', 'right_knee',                pos 13 / 14\n",
    "# 'left_ankle', 'right_ankle',              pos 15 / 16\n",
    "\n",
    "#Format of 17 keypoints matrix for 1 image: \n",
    "#17 / 3 [y,x,likelyhood] \n"
   ]
  },
  {
   "cell_type": "code",
   "execution_count": 2,
   "id": "5c312253",
   "metadata": {},
   "outputs": [],
   "source": [
    "import numpy as np\n",
    "import math"
   ]
  },
  {
   "cell_type": "code",
   "execution_count": 3,
   "id": "86d6af4f",
   "metadata": {},
   "outputs": [],
   "source": [
    "image_front_T_kp = [[0.17349216, 0.56427723, 0.5236098 ],\n",
    "        [0.16178887, 0.57046986, 0.52236605],\n",
    "        [0.16322146, 0.55656576, 0.6874031 ],\n",
    "        [0.17638007, 0.5828533 , 0.72497916],\n",
    "        [0.17946883, 0.55041116, 0.76183915],\n",
    "        [0.24724907, 0.60664934, 0.6900308 ],\n",
    "        [0.2661889 , 0.5356395 , 0.7871611 ],\n",
    "        [0.3592037 , 0.61628497, 0.5966688 ],\n",
    "        [0.3696247 , 0.549422  , 0.5074349 ],\n",
    "        [0.4646902 , 0.6258748 , 0.59548384],\n",
    "        [0.29332668, 0.5630101 , 0.47110534],\n",
    "        [0.42144495, 0.6031153 , 0.84182334],\n",
    "        [0.42856565, 0.559704  , 0.79291236],\n",
    "        [0.5857684 , 0.6084723 , 0.7321706 ],\n",
    "        [0.5991622 , 0.5660539 , 0.78673285],\n",
    "        [0.72647244, 0.61776626, 0.7692236 ],\n",
    "        [0.7399327 , 0.59163785, 0.62649405]]\n",
    "image_front_T_kp = np.array(image_front_T_kp)"
   ]
  },
  {
   "cell_type": "code",
   "execution_count": 4,
   "id": "caf3d432",
   "metadata": {},
   "outputs": [],
   "source": [
    "image_front_I_kp = [[0.13626342, 0.57170576, 0.5406235 ],\n",
    "       [0.12581952, 0.58031356, 0.5950187 ],\n",
    "       [0.12306002, 0.5641533 , 0.5945765 ],\n",
    "       [0.1330445 , 0.58676374, 0.46940276],\n",
    "       [0.1319304 , 0.55489534, 0.48606545],\n",
    "       [0.19684711, 0.6048043 , 0.37372732],\n",
    "       [0.19630507, 0.53479004, 0.30953246],\n",
    "       [0.26008302, 0.6065161 , 0.42267993],\n",
    "       [0.25835255, 0.51460385, 0.49753478],\n",
    "       [0.23563783, 0.59914243, 0.28201967],\n",
    "       [0.25673127, 0.49728453, 0.4280582 ],\n",
    "       [0.3964715 , 0.5841227 , 0.5168887 ],\n",
    "       [0.3921252 , 0.54193866, 0.47156578],\n",
    "       [0.5595846 , 0.58796036, 0.54856455],\n",
    "       [0.5583141 , 0.54261553, 0.52169836],\n",
    "       [0.7302867 , 0.5933529 , 0.4042293 ],\n",
    "       [0.7241063 , 0.5598221 , 0.30607915]]\n",
    "image_front_I_kp = np.array(image_front_I_kp)"
   ]
  },
  {
   "cell_type": "code",
   "execution_count": 5,
   "id": "0f41176e",
   "metadata": {},
   "outputs": [],
   "source": [
    "image_profile_kp = [[0.17119896, 0.55431795, 0.65762174],\n",
    "       [0.1641411 , 0.5632325 , 0.5738114 ],\n",
    "       [0.16227084, 0.5482719 , 0.6999848 ],\n",
    "       [0.17950638, 0.574966  , 0.570612  ],\n",
    "       [0.17202213, 0.54290915, 0.57458735],\n",
    "       [0.23494339, 0.56739473, 0.415179  ],\n",
    "       [0.24977106, 0.55462873, 0.45368198],\n",
    "       [0.3402242 , 0.5621322 , 0.44017628],\n",
    "       [0.3311993 , 0.5404615 , 0.28933096],\n",
    "       [0.4339265 , 0.5579535 , 0.62782705],\n",
    "       [0.29925185, 0.50375867, 0.4816786 ],\n",
    "       [0.43029714, 0.57282275, 0.57726043],\n",
    "       [0.43196964, 0.5522737 , 0.5526497 ],\n",
    "       [0.60913986, 0.55608445, 0.68798673],\n",
    "       [0.60523015, 0.5404867 , 0.48570338],\n",
    "       [0.75797564, 0.5934522 , 0.49470276],\n",
    "       [0.7497481 , 0.56782985, 0.51544404]]\n",
    "image_profile_kp = np.array(image_profile_kp)"
   ]
  },
  {
   "cell_type": "code",
   "execution_count": 6,
   "id": "545231b1",
   "metadata": {},
   "outputs": [],
   "source": [
    "#ADDITIONAL KEYPOINTS on picture FRONT_T / FRONT I\n",
    "\n",
    "#left biceps, right biceps                      pos 17 / 18\n",
    "\n",
    "def additional_kp_front(image_front_T_kp, image_front_I_kp):\n",
    "    #Biceps - Image front T\n",
    "    #left biceps pos 17\n",
    "    l_x11 = image_front_T_kp[5][1] +abs(image_front_T_kp[7][1] - image_front_T_kp[5][1])/2\n",
    "    l_y11 = (image_front_T_kp[7][0] + image_front_T_kp[5][0])/2\n",
    "    #right biceps pos 18\n",
    "    r_x11 = image_front_T_kp[8][1] + abs(image_front_T_kp[8][1]-image_front_T_kp[6][1])/2\n",
    "    r_y11 = (image_front_T_kp[8][0] + image_front_T_kp[6][0])/2\n",
    "    \n",
    "    #Biceps - Image front I\n",
    "    #left biceps pos 17\n",
    "    l_x12 = abs(image_front_T_kp[7][1] + image_front_T_kp[5][1])/2\n",
    "    l_y12 = image_front_T_kp[5][0] + abs(image_front_T_kp[7][0] - image_front_T_kp[5][0])/2\n",
    "    #right biceps pos 18\n",
    "    r_x12 = abs(image_front_T_kp[8][1]+image_front_T_kp[6][1])/2\n",
    "    r_y12 = image_front_T_kp[6][0] + (image_front_T_kp[8][0] + image_front_T_kp[6][0])/2\n",
    "    \n",
    "\n",
    "    #left chest, right chest                      pos 19 / 20\n",
    "    #left chest pos 19 \n",
    "    l_x2 = image_front_T_kp[6][1] + abs(image_front_T_kp[6][1] - image_front_T_kp[5][1]) * 1/4   #considering chest \"x\" located  at 1/4 vs soulders\n",
    "    l_y2 = image_front_T_kp[5][0] + abs(image_front_T_kp[11][0] - image_front_T_kp[5][0]) * 1/3  #considering chest \"y\" located  at 1/3 vs shoulders/hips\n",
    "    #right chest pos 20\n",
    "    r_x2 = image_front_T_kp[6][1] + abs(image_front_T_kp[6][1] - image_front_T_kp[5][1]) * 3/4   #considering chest \"x\" located  at 3/4 vs soulders\n",
    "    r_y2 = image_front_T_kp[6][0] + abs(image_front_T_kp[12][0] - image_front_T_kp[6][0]) * 1/3  #considering chest \"y\" located  at 1/3 vs shoulders/hips\n",
    "    \n",
    "    #left waist, right waist                       pos 21 / 22\n",
    "    #left waist pos 21\n",
    "    l_x3 = l_x2                                                                                   #considering chest \"x\" located  at 1/4 vs soulders\n",
    "    l_y3 = image_front_T_kp[5][0] + abs(image_front_T_kp[11][0] - image_front_T_kp[5][0]) * 2/3  #considering chest \"y\" located  at 2/3 vs shoulders/hi\n",
    "    #right waist pos 22\n",
    "    r_x3 = r_x2                                                                                   #considering chest \"x\" located  at 3/4 vs soulders\n",
    "    r_y3 = image_front_T_kp[6][0] + abs(image_front_T_kp[12][0] - image_front_T_kp[6][0]) * 2/3  #considering chest \"y\" located  at 2/3 vs shoulders/hips\n",
    "    \n",
    "    #append new keypoints into matrix_kp front T, front I\n",
    "    new_matrix_kp_T = np.vstack((image_front_T_kp, np.array([l_y11, l_x11, 0]), np.array([r_y11, r_x11, 0]), \\\n",
    "                              np.array([l_y2, l_x2, 0]), np.array([r_y2, r_x2, 0]), \\\n",
    "                              np.array([l_y3, l_x3, 0]), np.array([r_y3, r_x3, 0])))\n",
    "    \n",
    "    new_matrix_kp_I = np.vstack((image_front_I_kp, np.array([l_y12, l_x12, 0]), np.array([r_y12, r_x12, 0]), \\\n",
    "                              np.array([l_y2, l_x2, 0]), np.array([r_y2, r_x2, 0]), \\\n",
    "                              np.array([l_y3, l_x3, 0]), np.array([r_y3, r_x3, 0])))\n",
    "\n",
    "    \n",
    "    return new_matrix_kp_T, new_matrix_kp_I\n"
   ]
  },
  {
   "cell_type": "code",
   "execution_count": 7,
   "id": "b29bfd80",
   "metadata": {
    "collapsed": true
   },
   "outputs": [
    {
     "data": {
      "text/plain": [
       "(array([[0.17349216, 0.56427723, 0.5236098 ],\n",
       "        [0.16178887, 0.57046986, 0.52236605],\n",
       "        [0.16322146, 0.55656576, 0.6874031 ],\n",
       "        [0.17638007, 0.5828533 , 0.72497916],\n",
       "        [0.17946883, 0.55041116, 0.76183915],\n",
       "        [0.24724907, 0.60664934, 0.6900308 ],\n",
       "        [0.2661889 , 0.5356395 , 0.7871611 ],\n",
       "        [0.3592037 , 0.61628497, 0.5966688 ],\n",
       "        [0.3696247 , 0.549422  , 0.5074349 ],\n",
       "        [0.4646902 , 0.6258748 , 0.59548384],\n",
       "        [0.29332668, 0.5630101 , 0.47110534],\n",
       "        [0.42144495, 0.6031153 , 0.84182334],\n",
       "        [0.42856565, 0.559704  , 0.79291236],\n",
       "        [0.5857684 , 0.6084723 , 0.7321706 ],\n",
       "        [0.5991622 , 0.5660539 , 0.78673285],\n",
       "        [0.72647244, 0.61776626, 0.7692236 ],\n",
       "        [0.7399327 , 0.59163785, 0.62649405],\n",
       "        [0.30322638, 0.61146716, 0.        ],\n",
       "        [0.3179068 , 0.55631325, 0.        ],\n",
       "        [0.30531436, 0.55339196, 0.        ],\n",
       "        [0.32031448, 0.58889688, 0.        ],\n",
       "        [0.36337966, 0.55339196, 0.        ],\n",
       "        [0.37444007, 0.58889688, 0.        ]]),\n",
       " array([[0.13626342, 0.57170576, 0.5406235 ],\n",
       "        [0.12581952, 0.58031356, 0.5950187 ],\n",
       "        [0.12306002, 0.5641533 , 0.5945765 ],\n",
       "        [0.1330445 , 0.58676374, 0.46940276],\n",
       "        [0.1319304 , 0.55489534, 0.48606545],\n",
       "        [0.19684711, 0.6048043 , 0.37372732],\n",
       "        [0.19630507, 0.53479004, 0.30953246],\n",
       "        [0.26008302, 0.6065161 , 0.42267993],\n",
       "        [0.25835255, 0.51460385, 0.49753478],\n",
       "        [0.23563783, 0.59914243, 0.28201967],\n",
       "        [0.25673127, 0.49728453, 0.4280582 ],\n",
       "        [0.3964715 , 0.5841227 , 0.5168887 ],\n",
       "        [0.3921252 , 0.54193866, 0.47156578],\n",
       "        [0.5595846 , 0.58796036, 0.54856455],\n",
       "        [0.5583141 , 0.54261553, 0.52169836],\n",
       "        [0.7302867 , 0.5933529 , 0.4042293 ],\n",
       "        [0.7241063 , 0.5598221 , 0.30607915],\n",
       "        [0.30322638, 0.61146716, 0.        ],\n",
       "        [0.5840957 , 0.54253075, 0.        ],\n",
       "        [0.30531436, 0.55339196, 0.        ],\n",
       "        [0.32031448, 0.58889688, 0.        ],\n",
       "        [0.36337966, 0.55339196, 0.        ],\n",
       "        [0.37444007, 0.58889688, 0.        ]]))"
      ]
     },
     "execution_count": 7,
     "metadata": {},
     "output_type": "execute_result"
    }
   ],
   "source": [
    "additional_kp_front(image_front_T_kp, image_front_I_kp)"
   ]
  },
  {
   "cell_type": "code",
   "execution_count": 8,
   "id": "52ac6d66",
   "metadata": {},
   "outputs": [],
   "source": [
    "#ADDITIONAL KEYPOINTS on picture PROFILE\n",
    "\n",
    "#left biceps, right biceps                      pos 17 / 18\n",
    "\n",
    "def additional_kp_profile(image_profile_kp):\n",
    "    #left biceps pos 17\n",
    "    l_x1 = (image_profile_kp[7][1] + image_profile_kp[5][1])/2                            #average on x\n",
    "    l_y1 = image_front_T_kp[5][0] + (image_front_T_kp[7][0] - image_front_T_kp[5][0])/2   #considering biceps is at half shoulder/elbow\n",
    "    #right biceps pos 18\n",
    "    r_x1 = abs(image_front_T_kp[8][1] + image_front_T_kp[6][1])/2                         #average on x\n",
    "    r_y1 = image_front_T_kp[6][0] + (image_front_T_kp[8][0] + image_front_T_kp[6][0])/2   #considering biceps is at half shoulder/elbow\n",
    "\n",
    "    #left chest, right chest                      pos 19 / 20\n",
    "    #left chest pos 19 \n",
    "    l_x2 = l_x1\n",
    "    l_y2 = image_front_T_kp[5][0] + abs(image_front_T_kp[11][0] - image_front_T_kp[5][0]) * 1/3  #considering chest \"y\" located  at 1/3 vs shoulders/hips\n",
    "    #right chest pos 20\n",
    "    r_x2 = r_x1 \n",
    "    r_y2 = image_front_T_kp[6][0] + abs(image_front_T_kp[12][0] - image_front_T_kp[6][0]) * 1/3  #considering chest \"y\" located  at 1/3 vs shoulders/hips\n",
    "\n",
    "    #left waist, right waist                       pos 21 / 22\n",
    "    #left waist pos 21\n",
    "    l_x3 = l_x1\n",
    "    l_y3 = image_front_T_kp[5][0] + abs(image_front_T_kp[11][0] - image_front_T_kp[5][0]) * 2/3  #considering chest \"y\" located  at 2/3 vs shoulders/hi\n",
    "    #right waist pos 22\n",
    "    r_x3 = r_x1\n",
    "    r_y3 = image_front_T_kp[6][0] + abs(image_front_T_kp[12][0] - image_front_T_kp[6][0]) * 2/3  #considering chest \"y\" located  at 2/3 vs shoulders/hips\n",
    "    \n",
    "    #append new keypoints into matrix_kp\n",
    "    new_matrix_kp_profile = np.vstack((image_front_T_kp, np.array([l_y1, l_x1, 0]), np.array([r_y1, r_x1, 0]), \\\n",
    "                              np.array([l_y2, l_x2, 0]), np.array([r_y2, r_x2, 0]), \\\n",
    "                              np.array([l_y3, l_x3, 0]), np.array([r_y3, r_x3, 0])))\n",
    "\n",
    "    \n",
    "    return new_matrix_kp_profile\n"
   ]
  },
  {
   "cell_type": "code",
   "execution_count": 9,
   "id": "ce2427df",
   "metadata": {
    "scrolled": true
   },
   "outputs": [
    {
     "data": {
      "text/plain": [
       "array([[0.17349216, 0.56427723, 0.5236098 ],\n",
       "       [0.16178887, 0.57046986, 0.52236605],\n",
       "       [0.16322146, 0.55656576, 0.6874031 ],\n",
       "       [0.17638007, 0.5828533 , 0.72497916],\n",
       "       [0.17946883, 0.55041116, 0.76183915],\n",
       "       [0.24724907, 0.60664934, 0.6900308 ],\n",
       "       [0.2661889 , 0.5356395 , 0.7871611 ],\n",
       "       [0.3592037 , 0.61628497, 0.5966688 ],\n",
       "       [0.3696247 , 0.549422  , 0.5074349 ],\n",
       "       [0.4646902 , 0.6258748 , 0.59548384],\n",
       "       [0.29332668, 0.5630101 , 0.47110534],\n",
       "       [0.42144495, 0.6031153 , 0.84182334],\n",
       "       [0.42856565, 0.559704  , 0.79291236],\n",
       "       [0.5857684 , 0.6084723 , 0.7321706 ],\n",
       "       [0.5991622 , 0.5660539 , 0.78673285],\n",
       "       [0.72647244, 0.61776626, 0.7692236 ],\n",
       "       [0.7399327 , 0.59163785, 0.62649405],\n",
       "       [0.30322638, 0.56476346, 0.        ],\n",
       "       [0.5840957 , 0.54253075, 0.        ],\n",
       "       [0.30531436, 0.56476346, 0.        ],\n",
       "       [0.32031448, 0.54253075, 0.        ],\n",
       "       [0.36337966, 0.56476346, 0.        ],\n",
       "       [0.37444007, 0.54253075, 0.        ]])"
      ]
     },
     "execution_count": 9,
     "metadata": {},
     "output_type": "execute_result"
    }
   ],
   "source": [
    "additional_kp_profile(image_profile_kp)"
   ]
  },
  {
   "cell_type": "code",
   "execution_count": 10,
   "id": "39cc1494",
   "metadata": {},
   "outputs": [],
   "source": [
    "#Convert Matrix Keypoints coordinates in x,y to pixels(contouring matrix)\n",
    "def convert_kp_matrix_front_T(matrix_kp_front_T, image_h, image_l):\n",
    "    x = np.round(matrix_kp_front_T[: , 1] * image_l)\n",
    "    x = [ int(i) for i in x]                                      #convert in int\n",
    "    y = np.round(matrix_kp_front_T[: , 0] * image_h) \n",
    "    y = [ int(i) for i in y]                                      #convert in int\n",
    "    matrix_kp_converted = list(zip(y,x))\n",
    "    return matrix_kp_converted\n",
    "\n",
    "def convert_kp_matrix_front_I(matrix_kp_front_I, image_h, image_l):\n",
    "    x = np.round(matrix_kp_front_I[: , 1] * image_l)\n",
    "    x = [ int(i) for i in x]   \n",
    "    y = np.round(matrix_kp_front_I[: , 0] * image_h)\n",
    "    y = [ int(i) for i in y]\n",
    "    matrix_kp_converted = list(zip(y,x))\n",
    "    return matrix_kp_converted\n",
    "\n",
    "def convert_kp_matrix_profile(matrix_kp_profile, image_h, image_l):\n",
    "    x = np.round(matrix_kp_profile[: , 1] * image_l)\n",
    "    x = [ int(i) for i in x]  \n",
    "    y = np.round(matrix_kp_profile[: , 0] * image_h)\n",
    "    y = [ int(i) for i in y]\n",
    "    matrix_kp_converted = list(zip(y,x))\n",
    "    return matrix_kp_converted\n",
    "\n",
    "# Define ratio between real measure(in mm) vs pixel position\n",
    "# def ratio_real_vs_pixel(real_height, matrix_image_contouring, image_l):\n",
    "#     list_sum_y=[]\n",
    "#     #sum of all \"1\" for each x to get the sum max ie. height\n",
    "#     for i in range(0,image_l):\n",
    "#         list_sum_y.append(np.sum(matrix_image_contouring[: , i]))\n",
    "#     print(max(list_sum_y))\n",
    "#     ratio_mm_px = real_height / max(list_sum_y)                            #ratio real height (in mm) / max sum of \"1\"\n",
    "#     return ratio_mm_px"
   ]
  },
  {
   "cell_type": "markdown",
   "id": "6ac66e22",
   "metadata": {},
   "source": [
    "## Measurements for T-shirt\n",
    "https://freesewing.org/designs/teagan/"
   ]
  },
  {
   "cell_type": "code",
   "execution_count": 14,
   "id": "fdfd1c00",
   "metadata": {},
   "outputs": [],
   "source": [
    "import matplotlib.pyplot as plt\n",
    "import cv2\n",
    "array = cv2.imread(r\"pexels-photo-60219.png\")"
   ]
  },
  {
   "cell_type": "code",
   "execution_count": 15,
   "id": "4a1d0f1b",
   "metadata": {},
   "outputs": [
    {
     "data": {
      "text/plain": [
       "(768, 1024)"
      ]
     },
     "execution_count": 15,
     "metadata": {},
     "output_type": "execute_result"
    }
   ],
   "source": [
    "matrix_cont = array.mean(axis=-1)\n",
    "matrix_cont.shape"
   ]
  },
  {
   "cell_type": "code",
   "execution_count": 17,
   "id": "28a8e73a",
   "metadata": {
    "scrolled": true
   },
   "outputs": [
    {
     "data": {
      "text/plain": [
       "<matplotlib.image.AxesImage at 0x7ffaac5ddee0>"
      ]
     },
     "execution_count": 17,
     "metadata": {},
     "output_type": "execute_result"
    },
    {
     "data": {
      "image/png": "[encoded data removed]",
      "text/plain": [
       "<Figure size 432x288 with 1 Axes>"
      ]
     },
     "metadata": {
      "needs_background": "light"
     },
     "output_type": "display_data"
    }
   ],
   "source": [
    "#defintion of matrix contouring\n",
    "matrix_cont\n",
    "plt.imshow(matrix_cont)"
   ]
  },
  {
   "cell_type": "code",
   "execution_count": 18,
   "id": "4357a1d0",
   "metadata": {},
   "outputs": [
    {
     "data": {
      "text/plain": [
       "array([[0., 0., 0., ..., 0., 0., 0.],\n",
       "       [0., 0., 0., ..., 0., 0., 0.],\n",
       "       [0., 0., 0., ..., 0., 0., 0.],\n",
       "       ...,\n",
       "       [0., 0., 0., ..., 0., 0., 0.],\n",
       "       [0., 0., 0., ..., 0., 0., 0.],\n",
       "       [0., 0., 0., ..., 0., 0., 0.]])"
      ]
     },
     "execution_count": 18,
     "metadata": {},
     "output_type": "execute_result"
    }
   ],
   "source": [
    "matrix_cont"
   ]
  },
  {
   "cell_type": "code",
   "execution_count": 19,
   "id": "df41e506",
   "metadata": {},
   "outputs": [
    {
     "data": {
      "text/plain": [
       "(17, 3)"
      ]
     },
     "execution_count": 19,
     "metadata": {},
     "output_type": "execute_result"
    }
   ],
   "source": [
    "#Matrix of kp coming from other notebook - considering image.shape of (1, 768, 1024, 3)\n",
    "test_matrix_front_kp = np.array([[0.48695812, 0.68326586, 0.5639537 ],\n",
    "          [0.4778103 , 0.68713045, 0.50732034],\n",
    "          [0.47737232, 0.67476934, 0.5956619 ],\n",
    "          [0.4883077 , 0.70074975, 0.57466257],\n",
    "          [0.4893417 , 0.6668179 , 0.49692088],\n",
    "          [0.52557784, 0.7172219 , 0.48050335],\n",
    "          [0.539968  , 0.6626774 , 0.5938845 ],\n",
    "          [0.52591187, 0.7609507 , 0.21174023],\n",
    "          [0.54629296, 0.63570327, 0.28719622],\n",
    "          [0.51536655, 0.852199  , 0.3918358 ],\n",
    "          [0.51517344, 0.62228054, 0.13233644],\n",
    "          [0.6867487 , 0.70954204, 0.4412909 ],\n",
    "          [0.68755573, 0.6688813 , 0.366415  ],\n",
    "          [0.8038848 , 0.72793126, 0.46259767],\n",
    "          [0.7948738 , 0.6616839 , 0.4294906 ],\n",
    "          [0.9306485 , 0.737101  , 0.3557214 ],\n",
    "          [0.9053455 , 0.621957  , 0.37097037]])\n",
    "test_matrix_front_kp.shape"
   ]
  },
  {
   "cell_type": "code",
   "execution_count": 20,
   "id": "28694280",
   "metadata": {},
   "outputs": [
    {
     "data": {
      "text/plain": [
       "5.142857142857143"
      ]
     },
     "execution_count": 20,
     "metadata": {},
     "output_type": "execute_result"
    }
   ],
   "source": [
    "#estimation of this value\n",
    "ratio_mm_px = 1800/350\n",
    "ratio_mm_px\n"
   ]
  },
  {
   "cell_type": "code",
   "execution_count": 21,
   "id": "569a4e4f",
   "metadata": {
    "scrolled": true
   },
   "outputs": [],
   "source": [
    "additional_kp_front(test_matrix_front_kp,test_matrix_front_kp )\n",
    "test_matrix_front_kp = additional_kp_front(test_matrix_front_kp,test_matrix_front_kp )[0]\n",
    "test_matrix_front_kp_1 =  additional_kp_front(test_matrix_front_kp,test_matrix_front_kp )[1]"
   ]
  },
  {
   "cell_type": "code",
   "execution_count": 23,
   "id": "1f057f70",
   "metadata": {
    "collapsed": true
   },
   "outputs": [
    {
     "data": {
      "text/plain": [
       "([(374, 700),\n",
       "  (367, 704),\n",
       "  (367, 691),\n",
       "  (375, 718),\n",
       "  (376, 683),\n",
       "  (404, 734),\n",
       "  (415, 679),\n",
       "  (404, 779),\n",
       "  (420, 651),\n",
       "  (396, 873),\n",
       "  (396, 637),\n",
       "  (527, 727),\n",
       "  (528, 685),\n",
       "  (617, 745),\n",
       "  (610, 678),\n",
       "  (715, 755),\n",
       "  (695, 637),\n",
       "  (404, 757),\n",
       "  (417, 665),\n",
       "  (445, 693),\n",
       "  (452, 720),\n",
       "  (486, 693),\n",
       "  (490, 720)],\n",
       " [(374, 700),\n",
       "  (367, 704),\n",
       "  (367, 691),\n",
       "  (375, 718),\n",
       "  (376, 683),\n",
       "  (404, 734),\n",
       "  (415, 679),\n",
       "  (404, 779),\n",
       "  (420, 651),\n",
       "  (396, 873),\n",
       "  (396, 637),\n",
       "  (527, 727),\n",
       "  (528, 685),\n",
       "  (617, 745),\n",
       "  (610, 678),\n",
       "  (715, 755),\n",
       "  (695, 637),\n",
       "  (404, 757),\n",
       "  (417, 665),\n",
       "  (445, 693),\n",
       "  (452, 720),\n",
       "  (486, 693),\n",
       "  (490, 720)])"
      ]
     },
     "execution_count": 23,
     "metadata": {},
     "output_type": "execute_result"
    }
   ],
   "source": [
    "test_matrix_front_kp_conv = convert_kp_matrix_front_T(test_matrix_front_kp, 768, 1024)\n",
    "test_matrix_front_kp_1_conv = convert_kp_matrix_front_I(test_matrix_front_kp, 768, 1024)\n",
    "test_matrix_front_kp_conv , test_matrix_front_kp_1_conv "
   ]
  },
  {
   "cell_type": "code",
   "execution_count": 26,
   "id": "d2f9d620",
   "metadata": {},
   "outputs": [],
   "source": [
    "#Front picture in T shape\n",
    "def biceps_circumference(matrix_kp_front_converted, matrix_image_front_cont):\n",
    "    #left biceps\n",
    "    x1 = matrix_kp_front_converted[17][1]\n",
    "    sum_left = np.sum(matrix_image_front_cont[:, x1])\n",
    "    \n",
    "    #right biceps\n",
    "    x2 = matrix_kp_front_converted[18][1]\n",
    "    sum_right = np.sum(matrix_image_front_cont[:, x2])\n",
    "    \n",
    "    #diameter left / right biceps \"height\"\n",
    "    average_mm = ((sum_left + sum_right) / 2) * ratio_mm_px\n",
    "    \n",
    "    #biceps circumference in mm\n",
    "    circumference_biceps = (average_mm) * math.pi\n",
    "    print(x1,x2)\n",
    "    print(sum_left, sum_right)\n",
    "    print(average_mm)\n",
    "    return  circumference_biceps"
   ]
  },
  {
   "cell_type": "code",
   "execution_count": 28,
   "id": "4738a929",
   "metadata": {},
   "outputs": [
    {
     "name": "stdout",
     "output_type": "stream",
     "text": [
      "757 665\n",
      "146.0 158.0\n",
      "781.7142857142858\n"
     ]
    },
    {
     "data": {
      "text/plain": [
       "2455.8278572061927"
      ]
     },
     "execution_count": 28,
     "metadata": {},
     "output_type": "execute_result"
    }
   ],
   "source": [
    "biceps_circumference(test_matrix_front_kp_conv, matrix_cont)"
   ]
  },
  {
   "cell_type": "code",
   "execution_count": 29,
   "id": "f63eabb0",
   "metadata": {},
   "outputs": [],
   "source": [
    "#Front picture in T shape + profile picture\n",
    "def chest_circumference(matrix_kp_front_converted, matrix_image_front_cont, matrix_kp_profile_converted, matrix_image_profile_cont, ):\n",
    "    #measure width (along axis x) for given y, on front picture\n",
    "    y_front1 = matrix_kp_front_converted[19][0]\n",
    "    y_front2 = matrix_kp_front_converted[20][0]\n",
    "    y_average = int((y_front1+y_front2)/2)\n",
    "    sum_x_front = np.sum(matrix_image_front_cont[y_average,:])\n",
    "    \n",
    "    #measure width (along axis x) for given y, on profile picture\n",
    "    y_prof1 = matrix_kp_front_converted[19][0]\n",
    "    y_prof2 = matrix_kp_front_converted[20][0]\n",
    "    y_average = int((y_prof1 + y_prof2)/2)\n",
    "    sum_x_prof = np.sum(matrix_image_front_cont[y_average,:])\n",
    "    \n",
    "    #chest circumference in mm\n",
    "    circumference_chest = (sum_x_front + sum_x_prof) * 2 * ratio_mm_px\n",
    "    \n",
    "    print(y_front1, y_front2)\n",
    "    print(matrix_image_front_cont[y_average,:])\n",
    "    print(sum_x_front, sum_x_prof)\n",
    "    \n",
    "    return circumference_chest"
   ]
  },
  {
   "cell_type": "code",
   "execution_count": 30,
   "id": "2765e275",
   "metadata": {},
   "outputs": [
    {
     "name": "stdout",
     "output_type": "stream",
     "text": [
      "445 452\n",
      "[0. 0. 0. ... 0. 0. 0.]\n",
      "73.0 73.0\n"
     ]
    },
    {
     "data": {
      "text/plain": [
       "1501.7142857142858"
      ]
     },
     "execution_count": 30,
     "metadata": {},
     "output_type": "execute_result"
    }
   ],
   "source": [
    "chest_circumference(test_matrix_front_kp_conv, matrix_cont, test_matrix_front_kp_conv, matrix_cont)"
   ]
  },
  {
   "cell_type": "code",
   "execution_count": 33,
   "id": "724e488a",
   "metadata": {},
   "outputs": [],
   "source": [
    "#Current solution is distance between shoulder (# 5 / 6) and waist (# 21 / 22) with a factor 1.2\n",
    "def hps_to_waist_back(matrix_kp_front_converted, matrix_image_front_cont):\n",
    "    a = (abs(matrix_kp_front_converted[5][0] - matrix_kp_front_converted[21][0]) + abs(matrix_kp_front_converted[6][0] - matrix_kp_front_converted[22][0])) /2\n",
    "    #convert in mm and apply factor of 1.2\n",
    "    distance = a * 1.2 * ratio_mm_px\n",
    "    \n",
    "    return distance\n",
    "    "
   ]
  },
  {
   "cell_type": "code",
   "execution_count": 34,
   "id": "6f82a9d2",
   "metadata": {},
   "outputs": [
    {
     "data": {
      "text/plain": [
       "484.4571428571429"
      ]
     },
     "execution_count": 34,
     "metadata": {},
     "output_type": "execute_result"
    }
   ],
   "source": [
    "hps_to_waist_back(test_matrix_front_kp_conv, matrix_cont)"
   ]
  },
  {
   "cell_type": "code",
   "execution_count": 38,
   "id": "afac4e8a",
   "metadata": {},
   "outputs": [],
   "source": [
    "#Front picture in T shape + Profile picture\n",
    "def hips_circumference(matrix_kp_front_converted, matrix_image_front_cont, matrix_kp_profile_converted, matrix_image_profile_cont):\n",
    "    \n",
    "    #measure width (along axis x) for given y, on front picture\n",
    "    y_front1 = matrix_kp_front_converted[11][1]\n",
    "    y_front2 = matrix_kp_front_converted[12][1]\n",
    "    y_average = int((y_front1+y_front2)/2)\n",
    "    sum_x_front = np.sum(matrix_image_front_cont[y_average,:])\n",
    "    \n",
    "    #measure width (along axis x) for given y, on profile picture\n",
    "    y_prof1 = matrix_kp_front_converted[11][1]\n",
    "    y_prof2 = matrix_kp_front_converted[12][1]\n",
    "    y_average = int((y_prof1 + y_prof2)/2)\n",
    "    sum_x_prof = np.sum(matrix_image_front_cont[y_average,:])\n",
    "    \n",
    "    #hips circumference in mm\n",
    "    hips_circ = (sum_x_front + sum_x_prof) * 2 * ratio_mm_px\n",
    "    \n",
    "    return hips_circ"
   ]
  },
  {
   "cell_type": "code",
   "execution_count": 39,
   "id": "ff5e110b",
   "metadata": {},
   "outputs": [
    {
     "data": {
      "text/plain": [
       "1254.857142857143"
      ]
     },
     "execution_count": 39,
     "metadata": {},
     "output_type": "execute_result"
    }
   ],
   "source": [
    "hips_circumference(test_matrix_front_kp_conv, matrix_cont, test_matrix_front_kp_conv, matrix_cont)"
   ]
  },
  {
   "cell_type": "code",
   "execution_count": 70,
   "id": "8f5862ba",
   "metadata": {},
   "outputs": [],
   "source": [
    "#Profile picture\n",
    "def neck_circumference( matrix_kp_profile_converted, matrix_image_profile_cont):\n",
    "    #Estimated neck position on y located at 1/3 above shoulders vs ears\n",
    "    neck_y = int(matrix_kp_profile_converted[5][0]\n",
    "                 - abs(matrix_kp_profile_converted[5][0] - matrix_kp_profile_converted[3][0]) *(1/4))\n",
    "    #sum over x considering neck_y = a\n",
    "    sum_x = np.sum(matrix_image_profile_cont[neck_y,:])\n",
    "    \n",
    "    #neck circumference in mm\n",
    "    neck_circ = (sum_x * ratio_mm_px) * math.pi\n",
    "    \n",
    "    print(neck_y)\n",
    "    print(sum_x)\n",
    "    \n",
    "    return neck_circ\n",
    "    "
   ]
  },
  {
   "cell_type": "code",
   "execution_count": 71,
   "id": "f346c198",
   "metadata": {},
   "outputs": [
    {
     "name": "stdout",
     "output_type": "stream",
     "text": [
      "396\n",
      "95.0\n"
     ]
    },
    {
     "data": {
      "text/plain": [
       "1534.8924107538705"
      ]
     },
     "execution_count": 71,
     "metadata": {},
     "output_type": "execute_result"
    }
   ],
   "source": [
    "neck_circumference(test_matrix_front_kp_conv, matrix_cont)"
   ]
  },
  {
   "cell_type": "code",
   "execution_count": 76,
   "id": "d0dcdc6c",
   "metadata": {},
   "outputs": [],
   "source": [
    "#Front picture in T shape\n",
    "#Consider distance (on x) between shoulder kp and ear kp, plus half width of biceps\n",
    "def shoulder_slope(matrix_kp_front_converted, matrix_image_front_cont):\n",
    "    #left biceps\n",
    "    x1 = matrix_kp_front_converted[17][1]\n",
    "    sum_left = np.sum(matrix_image_front_cont[:, x1])\n",
    "    \n",
    "    #distance (on x) between kp for shoulder / ear\n",
    "    distance = (abs(matrix_kp_front_converted[5][1] - matrix_kp_front_converted[3][1]) + abs(matrix_kp_front_converted[4][1] - matrix_kp_front_converted[6][1])) / 2\n",
    "    \n",
    "    #overall distance in mm \n",
    "    total_distance = distance + sum_left/2 * ratio_mm_px\n",
    "    \n",
    "    return total_distance\n"
   ]
  },
  {
   "cell_type": "code",
   "execution_count": 77,
   "id": "d05d7f42",
   "metadata": {},
   "outputs": [
    {
     "data": {
      "text/plain": [
       "385.42857142857144"
      ]
     },
     "execution_count": 77,
     "metadata": {},
     "output_type": "execute_result"
    }
   ],
   "source": [
    "shoulder_slope(test_matrix_front_kp_conv, matrix_cont)"
   ]
  },
  {
   "cell_type": "code",
   "execution_count": 82,
   "id": "2e4ec785",
   "metadata": {},
   "outputs": [],
   "source": [
    "#Front picture in I shape\n",
    "def shoulder_to_shoulder( matrix_kp_front_converted, matrix_image_front_cont ):\n",
    "    #average y for shoulders kp\n",
    "    y1 =int(( matrix_kp_front_converted[5][1] + matrix_kp_front_converted[6][1] ) / 2)\n",
    "    #distance (on x) between shoulders \n",
    "    sum_shoulders = np.sum(matrix_image_front_cont[y1, :])\n",
    "    #convert distance in mm\n",
    "    distance = sum_shoulders * ratio_mm_px\n",
    "    \n",
    "    return distance \n",
    "    "
   ]
  },
  {
   "cell_type": "code",
   "execution_count": 83,
   "id": "f9baaedb",
   "metadata": {},
   "outputs": [
    {
     "data": {
      "text/plain": [
       "313.7142857142857"
      ]
     },
     "execution_count": 83,
     "metadata": {},
     "output_type": "execute_result"
    }
   ],
   "source": [
    "shoulder_to_shoulder(test_matrix_front_kp_conv, matrix_cont)"
   ]
  },
  {
   "cell_type": "code",
   "execution_count": 88,
   "id": "1e4f572e",
   "metadata": {},
   "outputs": [],
   "source": [
    "#Front picture in T shape + Profile picture\n",
    "def waist_circumference(matrix_kp_front_converted, matrix_image_front_cont, matrix_kp_profile_converted, matrix_image_profile_cont):\n",
    "    \n",
    "    #measure width (along axis x) for given y, on front picture\n",
    "    y_front1 = matrix_kp_front_converted[21][0]\n",
    "    y_front2 = matrix_kp_front_converted[22][0]\n",
    "    y_average = int((y_front1+y_front2)/2)\n",
    "    sum_x_front = np.sum(matrix_image_front_cont[y_average,:])\n",
    "    \n",
    "    #measure width (along axis x) for given y, on profile picture\n",
    "    y_prof1 = matrix_kp_profile_converted[11][0]\n",
    "    y_prof2 = matrix_kp_profile_converted[12][0]\n",
    "    y_average = int((y_prof1 + y_prof2)/2)\n",
    "    sum_x_prof = np.sum(matrix_image_front_cont[y_average,:])\n",
    "    \n",
    "    #waist circumference in mm\n",
    "    waist_circumference = (sum_x_front + sum_x_prof) * 2 * ratio_mm_px\n",
    "    \n",
    "    return waist_circumference\n"
   ]
  },
  {
   "cell_type": "code",
   "execution_count": 89,
   "id": "68183e92",
   "metadata": {},
   "outputs": [
    {
     "data": {
      "text/plain": [
       "1491.4285714285716"
      ]
     },
     "execution_count": 89,
     "metadata": {},
     "output_type": "execute_result"
    }
   ],
   "source": [
    "waist_circumference(test_matrix_front_kp_conv, matrix_cont, test_matrix_front_kp_conv, matrix_cont)"
   ]
  },
  {
   "cell_type": "code",
   "execution_count": 90,
   "id": "47e11a78",
   "metadata": {},
   "outputs": [],
   "source": [
    "#Front picture in T shape\n",
    "def waist_to_hips(matrix_kp_front_converted, matrix_image_front_cont):\n",
    "    #average distance (on y) between waist(21,22) and hips(11,12) with correction factor of 1.2\n",
    "    a = (abs(matrix_kp_front_converted[22][1] - matrix_kp_front_converted[12][1])\n",
    "         +abs(matrix_kp_front_converted[21][1] - matrix_kp_front_converted[11][1])) / 2\n",
    "    #convert in mm and apply factor of 1.2\n",
    "    distance = a * 1.2 * ratio_mm_px\n",
    "    \n",
    "    return distance\n"
   ]
  },
  {
   "cell_type": "code",
   "execution_count": 91,
   "id": "329dff7b",
   "metadata": {},
   "outputs": [
    {
     "data": {
      "text/plain": [
       "212.9142857142857"
      ]
     },
     "execution_count": 91,
     "metadata": {},
     "output_type": "execute_result"
    }
   ],
   "source": [
    "waist_to_hips(test_matrix_front_kp_conv, matrix_cont)"
   ]
  },
  {
   "cell_type": "markdown",
   "id": "d7d441b7",
   "metadata": {},
   "source": [
    "## Draft Code\n"
   ]
  },
  {
   "cell_type": "code",
   "execution_count": 166,
   "id": "d13fc553",
   "metadata": {},
   "outputs": [
    {
     "data": {
      "text/plain": [
       "array([[ 1.5,  2. ,  3. ],\n",
       "       [ 4. ,  5. ,  6. ],\n",
       "       [10. , -8. , -4. ],\n",
       "       [12. , -4. , -1. ]])"
      ]
     },
     "execution_count": 166,
     "metadata": {},
     "output_type": "execute_result"
    }
   ],
   "source": [
    "m = np.array([(1.5,2,3), (4,5,6), (10,-8,-4), (12,-4,-1)])\n",
    "m"
   ]
  },
  {
   "cell_type": "code",
   "execution_count": 164,
   "id": "6336a407",
   "metadata": {},
   "outputs": [
    {
     "data": {
      "text/plain": [
       "15.0"
      ]
     },
     "execution_count": 164,
     "metadata": {},
     "output_type": "execute_result"
    }
   ],
   "source": [
    "np.sum(m[1,:])"
   ]
  },
  {
   "cell_type": "code",
   "execution_count": 51,
   "id": "6dffccda",
   "metadata": {},
   "outputs": [
    {
     "name": "stdout",
     "output_type": "stream",
     "text": [
      "0\n",
      "[ 1.5  4.  10.  12. ]\n",
      "27.5\n",
      "1\n",
      "[ 2.  5. -8. -4.]\n",
      "-5.0\n",
      "2\n",
      "[ 3.  6. -4. -1.]\n",
      "4.0\n"
     ]
    },
    {
     "data": {
      "text/plain": [
       "120.0"
      ]
     },
     "execution_count": 51,
     "metadata": {},
     "output_type": "execute_result"
    }
   ],
   "source": [
    "y_average"
   ]
  },
  {
   "cell_type": "code",
   "execution_count": 70,
   "id": "5c146b58",
   "metadata": {},
   "outputs": [
    {
     "data": {
      "text/plain": [
       "array([4., 5., 6.])"
      ]
     },
     "execution_count": 70,
     "metadata": {},
     "output_type": "execute_result"
    }
   ],
   "source": [
    "np.round(np.array(m[1]))"
   ]
  },
  {
   "cell_type": "code",
   "execution_count": null,
   "id": "563c5b30",
   "metadata": {},
   "outputs": [],
   "source": [
    "m.shape[0]"
   ]
  },
  {
   "cell_type": "code",
   "execution_count": null,
   "id": "5866ec81",
   "metadata": {},
   "outputs": [],
   "source": [
    "bb = range(0,11)\n",
    "bb"
   ]
  },
  {
   "cell_type": "code",
   "execution_count": null,
   "id": "ad333342",
   "metadata": {},
   "outputs": [],
   "source": [
    "for i in bb:\n",
    "    print(i)"
   ]
  },
  {
   "cell_type": "code",
   "execution_count": null,
   "id": "c3aae44c",
   "metadata": {},
   "outputs": [],
   "source": []
  }
 ],
 "metadata": {
  "kernelspec": {
   "display_name": "Python 3 (ipykernel)",
   "language": "python",
   "name": "python3"
  },
  "language_info": {
   "codemirror_mode": {
    "name": "ipython",
    "version": 3
   },
   "file_extension": ".py",
   "mimetype": "text/x-python",
   "name": "python",
   "nbconvert_exporter": "python",
   "pygments_lexer": "ipython3",
   "version": "3.8.12"
  },
  "toc": {
   "base_numbering": 1,
   "nav_menu": {},
   "number_sections": true,
   "sideBar": true,
   "skip_h1_title": false,
   "title_cell": "Table of Contents",
   "title_sidebar": "Contents",
   "toc_cell": false,
   "toc_position": {},
   "toc_section_display": true,
   "toc_window_display": false
  }
 },
 "nbformat": 4,
 "nbformat_minor": 5
}
