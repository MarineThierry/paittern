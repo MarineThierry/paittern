{
 "cells": [
  {
   "cell_type": "markdown",
   "id": "64a6b820",
   "metadata": {},
   "source": [
    "# Definiton of all measurements"
   ]
  },
  {
   "cell_type": "markdown",
   "id": "fbac8980",
   "metadata": {},
   "source": [
    "## Denition of KeyPoints"
   ]
  },
  {
   "cell_type": "code",
   "execution_count": null,
   "id": "0623017a",
   "metadata": {},
   "outputs": [],
   "source": [
    "# 'nose',                                   pos 0\n",
    "#'left_eye', 'right_eye',                   pos 1 / 2\n",
    "# 'left_ear', 'right_ear',                  pos 3 / 4\n",
    "# 'left_shoulder', 'right_shoulder',        pos 5 / 6\n",
    "# 'left_elbow', 'right_elbow',              pos 7 / 8\n",
    "# 'left_wrist', 'right_wrist',              pos 9 / 10\n",
    "# 'left_hip', 'right_hip',                  pos 11 / 12\n",
    "# 'left_knee', 'right_knee',                pos 13 / 14\n",
    "# 'left_ankle', 'right_ankle',              pos 15 / 16\n",
    "\n",
    "#Format of 17 keypoints matrix for 1 image: \n",
    "#17 / 3 [y,x,likelyhood] \n"
   ]
  },
  {
   "cell_type": "code",
   "execution_count": 4,
   "id": "fb25f5aa",
   "metadata": {},
   "outputs": [],
   "source": [
    "import numpy as np\n",
    "import math"
   ]
  },
  {
   "cell_type": "code",
   "execution_count": null,
   "id": "f9c1d6ef",
   "metadata": {},
   "outputs": [],
   "source": [
    "#ADDITIONAL KEYPOINTS\n",
    "\n",
    "#left biceps, right biceps                                pos 17 / 18\n",
    "\n",
    "def biceps_kp(image_front_T_kp, matrix_kp):\n",
    "    #left biceps pos 17\n",
    "    l_x = abs(image_front_T_kp[7][1] - image_front_T_k[5][1])\n",
    "    l_y = (image_front_T_k[7][0] + image_front_T_k[5][0])/2\n",
    "    #right biceps pos 18\n",
    "    r_x = abs(image_front_T_k[8][1]-image_front_T_k[6][1])\n",
    "    r_y = (image_front_T_k[8][0] + image_front_T_k[6][0])/2\n",
    "    \n",
    "    #append new keypoints into matrix_kp\n",
    "    new_matrix_kp = np.append(matrix_kp, [l_y, l_x, 0], [r_y, r_x, 0], axis=0)\n",
    "    return new_matrix_kp\n",
    "\n",
    "#left chest, right chest                                pos 19 / 20\n",
    "def chest_kp(image_front_T_kp, matrix_kp):\n",
    "    #left chest pos 19 \n",
    "    l_x = image_front_T_kp[5][1] + abs(image_front_T_kp[6][1] - image_front_T_kp[5][1]) * 1/4   #considering chest \"x\" located  at 1/4 vs soulders kp 5\n",
    "    l_y = image_front_T_kp[5][0] + abs(image_front_T_kp[11][0] - image_front_T_kp[5][0]) * 1/3  #considering chest \"y\" located  at 1/3 vs shoulders/hips\n",
    "    #right chest pos 20\n",
    "    r_x = image_front_T_kp[5][1] + abs(image_front_T_kp[6][1] - image_front_T_kp[5][1]) * 3/4   #considering chest \"x\" located  at 3/4 vs soulders kp 5\n",
    "    r_y = image_front_T_kp[6][0] + abs(image_front_T_kp[6][0] - image_front_T_kp[12][0]) * 1/3  #considering chest \"y\" located  at 1/3 vs shoulders/hips\n",
    "\n",
    "    #append new keypoints into matrix_kp\n",
    "    new_matrix_kp = np.append(matrix_kp, [l_y, l_x, 0], [r_y, r_x, 0], axis=0)\n",
    "    return new_matrix_kp\n",
    "\n",
    "\n",
    "\n",
    "#Convert Matrix Keypoints coordinates in x,y to pixels(contouring matrix)\n",
    "def convert_kp_matrix_front(matrix_kp_front, image_h, image_l):\n",
    "    x = np.round(matrix_kp_front[: , 1] * image_l)\n",
    "    y = np.round(matrix_kp_front[: , 0] * image_h)\n",
    "    matrix_kp_converted = list(zip(y,x))\n",
    "    return matrix_kp_converted\n",
    "\n",
    "def convert_kp_matrix_profile(matrix_kp_profile, image_h, image_l):\n",
    "    x = np.round(matrix_kp_profile[: , 1] * image_l)\n",
    "    y = np.round(matrix_kp_profile[: , 0] * image_h)\n",
    "    matrix_kp_converted = list(zip(y,x))\n",
    "    return matrix_kp_converted\n",
    "\n",
    "# Define ratio between real measure(in mm) vs pixel position\n",
    "def ratio_real_vs_pixel(real_height, matrix_image_contouring, image_h):\n",
    "    list_sum_y=[]\n",
    "    #sum of all \"1\" for each x to get the sum max ie. height\n",
    "    for i in range(0,image_h):\n",
    "        list_sum_y.append(np.sum(matrix_image_contouring[: , i]))\n",
    "    ratio_mm_px = real_height / max(list_sum_y)                            #ratio real height (in mm) / max sum of \"1\"\n",
    "    return ratio_mm_px\n",
    "\n",
    "ratio_mm_px = def ratio_real_vs_pixel(real_height, matrix_image_contouring, image_h)\n"
   ]
  },
  {
   "cell_type": "markdown",
   "id": "5991d988",
   "metadata": {},
   "source": [
    "## Measurements for T-shirt\n",
    "https://freesewing.org/designs/teagan/"
   ]
  },
  {
   "cell_type": "code",
   "execution_count": null,
   "id": "7aa8fa2f",
   "metadata": {},
   "outputs": [],
   "source": [
    "#Front picture in T shape\n",
    "def biceps_circumference(matrix_kp_front_converted, matrix_image_front_cont):\n",
    "    #left biceps\n",
    "    x1 = matrix_kp_conv[17][1]\n",
    "    sum_left = np.sum(matrix_image_front_cont[:, x1])\n",
    "    \n",
    "    #right biceps\n",
    "    x2 = matrix_kp_conv[18][1]\n",
    "    sum_right = np.sum(matrix_image_front_cont[:, x2])\n",
    "    \n",
    "    #diameter left / right biceps \"height\"\n",
    "    average_mm = ((sum_left + sum_right) / 2) * ratio_mm_px\n",
    "    #biceps circumference in mm\n",
    "    circumference_biceps = (average_mm) * math.pi\n",
    "    \n",
    "    return  circumference_biceps"
   ]
  },
  {
   "cell_type": "code",
   "execution_count": null,
   "id": "69361e08",
   "metadata": {},
   "outputs": [],
   "source": [
    "#Front picture in T shape + profile picture\n",
    "def chest_circumference(matrix_kp_front_converted, matrix_image_front_cont, matrix_kp_profile_converted, matrix_image_profile_cont, ):\n",
    "    #measure width (along axis x) for given y, on front picture\n",
    "    y_front1 = matrix_kp_front_converted[19][1]\n",
    "    y_front2 = matrix_kp_front_converted[20][1]\n",
    "    y _average = (y_front1+y_front2)/2\n",
    "    sum_x_front = np.sum(matrix_image_front_cont[y,:])\n",
    "    \n",
    "    #measure width (along axis x) for given y, on profile picture\n",
    "    y_prof1 = matrix_kp_front_converted[19][1]\n",
    "    y_prof2 = matrix_kp_front_converted[20][1]\n",
    "    y _average = (y_prof1 + y_prof2)/2\n",
    "    sum_x_prof = np.sum(matrix_image_front_cont[y,:])\n",
    "    \n",
    "    #chest circumference in mm\n",
    "    circumference_chest = (sum_x_front + sum_x_prof) * 2 * ratio_mm_px\n",
    "    \n",
    "    return circumference_chest"
   ]
  },
  {
   "cell_type": "code",
   "execution_count": null,
   "id": "d6aa9470",
   "metadata": {},
   "outputs": [],
   "source": [
    "#To be reviewed\n",
    "#Current solution is distance between shoulder (# 5 / 6) and waist (# 21 / 22) with a factor 1.2\n",
    "def hps_to_waist_back(matrix_kp_front_converted, matrix_image_front_cont):\n",
    "    a = (matrix_kp_front_converted[5][0] - matrix_kp_front_converted[21][0]) + (matrix_kp_front_converted[6][0] - matrix_kp_front_converted[22][0])/2\n",
    "    #convert in mm and apply factor of 1.2\n",
    "    distance = a * 1.2 * ratio_mm_px\n",
    "    \n",
    "    return distance\n",
    "    "
   ]
  },
  {
   "cell_type": "code",
   "execution_count": null,
   "id": "913d150f",
   "metadata": {},
   "outputs": [],
   "source": [
    "#Front picture in T shape + Profile picture\n",
    "def hips_circumference(matrix_kp_front_converted, matrix_image_front_cont, matrix_kp_profile_converted, matrix_image_profile_cont):\n",
    "    \n",
    "    #measure width (along axis x) for given y, on front picture\n",
    "    y_front1 = matrix_kp_front_converted[11][1]\n",
    "    y_front2 = matrix_kp_front_converted[12][1]\n",
    "    y _average = (y_front1+y_front2)/2\n",
    "    sum_x_front = np.sum(matrix_image_front_cont[y,:])\n",
    "    \n",
    "    #measure width (along axis x) for given y, on profile picture\n",
    "    y_prof1 = matrix_kp_front_converted[11][1]\n",
    "    y_prof2 = matrix_kp_front_converted[12][1]\n",
    "    y _average = (y_prof1 + y_prof2)/2\n",
    "    sum_x_prof = np.sum(matrix_image_front_cont[y,:])\n",
    "    \n",
    "    #hips circumference in mm\n",
    "    hips_circ = (sum_x_front + sum_x_prof) * 2 * ratio_mm_px\n",
    "    \n",
    "    return hips_circ"
   ]
  },
  {
   "cell_type": "code",
   "execution_count": null,
   "id": "1288a668",
   "metadata": {},
   "outputs": [],
   "source": [
    "#Profile picture\n",
    "def neck_circumference( matrix_kp_profile_converted, matrix_image_profile_cont):\n",
    "    #Estimated neck position on y located at 1/3 above shoulders vs ears\n",
    "    neck_y = abs(matrix_kp_profile_converted[5][0] - matrix_kp_profile_converted[3][0])\n",
    "    #sum over x considering neck_y = a\n",
    "    sum_x = np.sum(matrix_image_profile_cont[neck_y,:])\n",
    "    \n",
    "    #neck circumference in mm\n",
    "    neck_circ = (sum_x * ratio_mm_px) * math.pi\n",
    "    \n",
    "    return neck_circ\n",
    "    "
   ]
  },
  {
   "cell_type": "code",
   "execution_count": null,
   "id": "8a816242",
   "metadata": {},
   "outputs": [],
   "source": [
    "#Front picture in T shape\n",
    "#Consider distance (on x) between shoulder kp and ear kp, plus half width of biceps\n",
    "def shoulder_slope(matrix_kp_front_converted, matrix_image_front_cont):\n",
    "    #left biceps\n",
    "    x1 = matrix_kp_front_converted[17][1]\n",
    "    sum_left = np.sum(matrix_image_front_cont[:, x1])\n",
    "    \n",
    "    #distance (on x) between kp for shoulder / ear\n",
    "    a = abs(matrix_kp_front_converted[5][1] - matrix_kp_front_converted[3][1]) + abs(matrix_kp_front_converted[4][1] - matrix_kp_front_converted[6][1]) / 2\n",
    "    \n",
    "    #overall distance in mm \n",
    "    total_distance = distance + sum_left/2 * ratio_mm_px\n",
    "    \n",
    "    return total_distance\n"
   ]
  },
  {
   "cell_type": "code",
   "execution_count": null,
   "id": "d61eb233",
   "metadata": {},
   "outputs": [],
   "source": [
    "#Front picture in I shape\n",
    "def shoulder_to_shoulder( matrix_kp_front_converted, matrix_image_front_cont ):\n",
    "    #average y for shoulders kp\n",
    "    x1 =( matrix_kp_front_converted[5][1] + matrix_kp_front_converted[6][1] ) / 2\n",
    "    #distance (on x) between shoulders \n",
    "    sum_shoulders = np.sum(matrix_image_front_cont[x1, :])\n",
    "    #convert distance in mm\n",
    "    distance = sum_shoulders * ratio_mm_px\n",
    "    \n",
    "    return distance \n",
    "    "
   ]
  },
  {
   "cell_type": "code",
   "execution_count": null,
   "id": "3c7c8454",
   "metadata": {},
   "outputs": [],
   "source": [
    "#Front picture in T shape + Profile picture\n",
    "def waist_circumference(matrix_kp_front_converted, matrix_image_front_cont, matrix_kp_profile_converted, matrix_image_profile_cont):\n",
    "    \n",
    "    #measure width (along axis x) for given y, on front picture\n",
    "    y_front1 = matrix_kp_front_converted[21][0]\n",
    "    y_front2 = matrix_kp_front_converted[22][0]\n",
    "    y _average = (y_front1+y_front2)/2\n",
    "    sum_x_front = np.sum(matrix_image_front_cont[y,:])\n",
    "    \n",
    "    #measure width (along axis x) for given y, on profile picture\n",
    "    y_prof1 = matrix_kp_profile_converted[11][0]\n",
    "    y_prof2 = matrix_kp_profile_converted[12][0]\n",
    "    y _average = (y_prof1 + y_prof2)/2\n",
    "    sum_x_prof = np.sum(matrix_image_front_cont[y,:])\n",
    "    \n",
    "    #waist circumference in mm\n",
    "    waist_circumference = (sum_x_front + sum_x_prof) * 2 * ratio_mm_px\n",
    "    \n",
    "    return waist_circumference\n"
   ]
  },
  {
   "cell_type": "code",
   "execution_count": null,
   "id": "625ba981",
   "metadata": {},
   "outputs": [],
   "source": [
    "#Front picture in T shape\n",
    "def waist_to_hips(matrix_kp_front_converted, matrix_image_front_cont):\n",
    "    #average distance (on y) between waist(21,22) and hips(11,12) with correction factor of 1.2\n",
    "    a = abs(matrix_kp_front_converted[22][1] - matrix_kp_front_converted[12][1])+abs(matrix_kp_front_converted[21][1] - matrix_kp_front_converted[11][1]) / 2\n",
    "    #convert in mm and apply factor of 1.2\n",
    "    distance = a * 1.2 * ratio_mm_px\n",
    "    \n",
    "    return distance\n"
   ]
  },
  {
   "cell_type": "code",
   "execution_count": null,
   "id": "87a8f64a",
   "metadata": {},
   "outputs": [],
   "source": []
  },
  {
   "cell_type": "code",
   "execution_count": null,
   "id": "14c5dbfa",
   "metadata": {},
   "outputs": [],
   "source": []
  },
  {
   "cell_type": "code",
   "execution_count": 1,
   "id": "43bbbe31",
   "metadata": {},
   "outputs": [],
   "source": [
    "A = [[0.13626342, 0.57170576, 0.5406235 ],\n",
    "       [0.12581952, 0.58031356, 0.5950187 ],\n",
    "       [0.12306002, 0.5641533 , 0.5945765 ],\n",
    "       [0.1330445 , 0.58676374, 0.46940276],\n",
    "       [0.1319304 , 0.55489534, 0.48606545],\n",
    "       [0.19684711, 0.6048043 , 0.37372732],\n",
    "       [0.19630507, 0.53479004, 0.30953246],\n",
    "       [0.26008302, 0.6065161 , 0.42267993],\n",
    "       [0.25835255, 0.51460385, 0.49753478],\n",
    "       [0.23563783, 0.59914243, 0.28201967],\n",
    "       [0.25673127, 0.49728453, 0.4280582 ],\n",
    "       [0.3964715 , 0.5841227 , 0.5168887 ],\n",
    "       [0.3921252 , 0.54193866, 0.47156578],\n",
    "       [0.5595846 , 0.58796036, 0.54856455],\n",
    "       [0.5583141 , 0.54261553, 0.52169836],\n",
    "       [0.7302867 , 0.5933529 , 0.4042293 ],\n",
    "       [0.7241063 , 0.5598221 , 0.30607915]]\n"
   ]
  },
  {
   "cell_type": "code",
   "execution_count": 44,
   "id": "faf64407",
   "metadata": {},
   "outputs": [
    {
     "data": {
      "text/plain": [
       "array([[ 1.5,  2. ,  3. ],\n",
       "       [ 4. ,  5. ,  6. ],\n",
       "       [10. , -8. , -4. ],\n",
       "       [12. , -4. , -1. ]])"
      ]
     },
     "execution_count": 44,
     "metadata": {},
     "output_type": "execute_result"
    }
   ],
   "source": [
    "m = np.array([(1.5,2,3), (4,5,6), (10,-8,-4), (12,-4,-1)])\n",
    "m"
   ]
  },
  {
   "cell_type": "code",
   "execution_count": 45,
   "id": "1178b0a6",
   "metadata": {},
   "outputs": [
    {
     "data": {
      "text/plain": [
       "array([4., 5., 6.])"
      ]
     },
     "execution_count": 45,
     "metadata": {},
     "output_type": "execute_result"
    }
   ],
   "source": [
    "m[1,:]"
   ]
  },
  {
   "cell_type": "code",
   "execution_count": 41,
   "id": "d23d792d",
   "metadata": {},
   "outputs": [
    {
     "data": {
      "text/plain": [
       "-5.0"
      ]
     },
     "execution_count": 41,
     "metadata": {},
     "output_type": "execute_result"
    }
   ],
   "source": [
    "sum(m[:,1])"
   ]
  },
  {
   "cell_type": "code",
   "execution_count": 35,
   "id": "f3faceb9",
   "metadata": {},
   "outputs": [
    {
     "data": {
      "text/plain": [
       "4"
      ]
     },
     "execution_count": 35,
     "metadata": {},
     "output_type": "execute_result"
    }
   ],
   "source": [
    "m.shape[0]"
   ]
  },
  {
   "cell_type": "code",
   "execution_count": 36,
   "id": "a6820f59",
   "metadata": {},
   "outputs": [
    {
     "data": {
      "text/plain": [
       "range(0, 11)"
      ]
     },
     "execution_count": 36,
     "metadata": {},
     "output_type": "execute_result"
    }
   ],
   "source": [
    "bb = range(0,11)\n",
    "bb"
   ]
  },
  {
   "cell_type": "code",
   "execution_count": 37,
   "id": "77c9f55c",
   "metadata": {},
   "outputs": [
    {
     "name": "stdout",
     "output_type": "stream",
     "text": [
      "0\n",
      "1\n",
      "2\n",
      "3\n",
      "4\n",
      "5\n",
      "6\n",
      "7\n",
      "8\n",
      "9\n",
      "10\n"
     ]
    }
   ],
   "source": [
    "for i in bb:\n",
    "    print(i)"
   ]
  },
  {
   "cell_type": "code",
   "execution_count": null,
   "id": "f55107b2",
   "metadata": {},
   "outputs": [],
   "source": []
  }
 ],
 "metadata": {
  "kernelspec": {
   "display_name": "Python 3 (ipykernel)",
   "language": "python",
   "name": "python3"
  },
  "language_info": {
   "codemirror_mode": {
    "name": "ipython",
    "version": 3
   },
   "file_extension": ".py",
   "mimetype": "text/x-python",
   "name": "python",
   "nbconvert_exporter": "python",
   "pygments_lexer": "ipython3",
   "version": "3.8.12"
  },
  "toc": {
   "base_numbering": 1,
   "nav_menu": {},
   "number_sections": true,
   "sideBar": true,
   "skip_h1_title": false,
   "title_cell": "Table of Contents",
   "title_sidebar": "Contents",
   "toc_cell": false,
   "toc_position": {},
   "toc_section_display": true,
   "toc_window_display": false
  }
 },
 "nbformat": 4,
 "nbformat_minor": 5
}
