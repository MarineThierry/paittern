{
 "cells": [
  {
   "cell_type": "markdown",
   "id": "27da69e7",
   "metadata": {},
   "source": [
    "# Definiton of all measurements"
   ]
  },
  {
   "cell_type": "markdown",
   "id": "b0431f21",
   "metadata": {},
   "source": [
    "## Denition of KeyPoints"
   ]
  },
  {
   "cell_type": "code",
   "execution_count": null,
   "id": "26bb1406",
   "metadata": {},
   "outputs": [],
   "source": [
    "# 'nose',                                   pos 0\n",
    "#'left_eye', 'right_eye',                   pos 1 / 2\n",
    "# 'left_ear', 'right_ear',                  pos 3 / 4\n",
    "# 'left_shoulder', 'right_shoulder',        pos 5 / 6\n",
    "# 'left_elbow', 'right_elbow',              pos 7 / 8\n",
    "# 'left_wrist', 'right_wrist',              pos 9 / 10\n",
    "# 'left_hip', 'right_hip',                  pos 11 / 12\n",
    "# 'left_knee', 'right_knee',                pos 13 / 14\n",
    "# 'left_ankle', 'right_ankle',              pos 15 / 16\n",
    "\n",
    "#Format of 17 keypoints matrix for 1 image: \n",
    "#17 / 3 [y,x,likelyhood] \n"
   ]
  },
  {
   "cell_type": "code",
   "execution_count": 116,
   "id": "0a14cdc6",
   "metadata": {},
   "outputs": [],
   "source": [
    "import numpy as np\n",
    "import math"
   ]
  },
  {
   "cell_type": "code",
   "execution_count": 117,
   "id": "90094dac",
   "metadata": {},
   "outputs": [],
   "source": [
    "image_front_T_kp = [[0.17349216, 0.56427723, 0.5236098 ],\n",
    "        [0.16178887, 0.57046986, 0.52236605],\n",
    "        [0.16322146, 0.55656576, 0.6874031 ],\n",
    "        [0.17638007, 0.5828533 , 0.72497916],\n",
    "        [0.17946883, 0.55041116, 0.76183915],\n",
    "        [0.24724907, 0.60664934, 0.6900308 ],\n",
    "        [0.2661889 , 0.5356395 , 0.7871611 ],\n",
    "        [0.3592037 , 0.61628497, 0.5966688 ],\n",
    "        [0.3696247 , 0.549422  , 0.5074349 ],\n",
    "        [0.4646902 , 0.6258748 , 0.59548384],\n",
    "        [0.29332668, 0.5630101 , 0.47110534],\n",
    "        [0.42144495, 0.6031153 , 0.84182334],\n",
    "        [0.42856565, 0.559704  , 0.79291236],\n",
    "        [0.5857684 , 0.6084723 , 0.7321706 ],\n",
    "        [0.5991622 , 0.5660539 , 0.78673285],\n",
    "        [0.72647244, 0.61776626, 0.7692236 ],\n",
    "        [0.7399327 , 0.59163785, 0.62649405]]\n",
    "image_front_T_kp = np.array(image_front_T_kp)"
   ]
  },
  {
   "cell_type": "code",
   "execution_count": 118,
   "id": "674f5aa8",
   "metadata": {},
   "outputs": [],
   "source": [
    "image_front_I_kp = [[0.13626342, 0.57170576, 0.5406235 ],\n",
    "       [0.12581952, 0.58031356, 0.5950187 ],\n",
    "       [0.12306002, 0.5641533 , 0.5945765 ],\n",
    "       [0.1330445 , 0.58676374, 0.46940276],\n",
    "       [0.1319304 , 0.55489534, 0.48606545],\n",
    "       [0.19684711, 0.6048043 , 0.37372732],\n",
    "       [0.19630507, 0.53479004, 0.30953246],\n",
    "       [0.26008302, 0.6065161 , 0.42267993],\n",
    "       [0.25835255, 0.51460385, 0.49753478],\n",
    "       [0.23563783, 0.59914243, 0.28201967],\n",
    "       [0.25673127, 0.49728453, 0.4280582 ],\n",
    "       [0.3964715 , 0.5841227 , 0.5168887 ],\n",
    "       [0.3921252 , 0.54193866, 0.47156578],\n",
    "       [0.5595846 , 0.58796036, 0.54856455],\n",
    "       [0.5583141 , 0.54261553, 0.52169836],\n",
    "       [0.7302867 , 0.5933529 , 0.4042293 ],\n",
    "       [0.7241063 , 0.5598221 , 0.30607915]]\n",
    "image_front_I_kp = np.array(image_front_I_kp)"
   ]
  },
  {
   "cell_type": "code",
   "execution_count": 119,
   "id": "00bc0abb",
   "metadata": {},
   "outputs": [],
   "source": [
    "image_profile_kp = [[0.17119896, 0.55431795, 0.65762174],\n",
    "       [0.1641411 , 0.5632325 , 0.5738114 ],\n",
    "       [0.16227084, 0.5482719 , 0.6999848 ],\n",
    "       [0.17950638, 0.574966  , 0.570612  ],\n",
    "       [0.17202213, 0.54290915, 0.57458735],\n",
    "       [0.23494339, 0.56739473, 0.415179  ],\n",
    "       [0.24977106, 0.55462873, 0.45368198],\n",
    "       [0.3402242 , 0.5621322 , 0.44017628],\n",
    "       [0.3311993 , 0.5404615 , 0.28933096],\n",
    "       [0.4339265 , 0.5579535 , 0.62782705],\n",
    "       [0.29925185, 0.50375867, 0.4816786 ],\n",
    "       [0.43029714, 0.57282275, 0.57726043],\n",
    "       [0.43196964, 0.5522737 , 0.5526497 ],\n",
    "       [0.60913986, 0.55608445, 0.68798673],\n",
    "       [0.60523015, 0.5404867 , 0.48570338],\n",
    "       [0.75797564, 0.5934522 , 0.49470276],\n",
    "       [0.7497481 , 0.56782985, 0.51544404]]\n",
    "image_profile_kp = np.array(image_profile_kp)"
   ]
  },
  {
   "cell_type": "code",
   "execution_count": 120,
   "id": "808f375a",
   "metadata": {},
   "outputs": [],
   "source": [
    "#ADDITIONAL KEYPOINTS on picture FRONT_T / FRONT I\n",
    "\n",
    "#left biceps, right biceps                      pos 17 / 18\n",
    "\n",
    "def additional_kp_front(image_front_T_kp, image_front_I_kp):\n",
    "    #Biceps - Image front T\n",
    "    #left biceps pos 17\n",
    "    l_x11 = image_front_T_kp[7][1] +abs(image_front_T_kp[7][1] - image_front_T_kp[5][1])/2\n",
    "    l_y11 = (image_front_T_kp[7][0] + image_front_T_kp[5][0])/2\n",
    "    #right biceps pos 18\n",
    "    r_x11 = image_front_T_kp[6][1] + abs(image_front_T_kp[8][1]-image_front_T_kp[6][1])\n",
    "    r_y11 = (image_front_T_kp[8][0] + image_front_T_kp[6][0])/2\n",
    "    \n",
    "    #Biceps - Image front I\n",
    "    #left biceps pos 17\n",
    "    l_x12 = abs(image_front_T_kp[7][1] + image_front_T_kp[5][1])/2\n",
    "    l_y12 = image_front_T_kp[5][0] + abs(image_front_T_kp[7][0] - image_front_T_kp[5][0])/2\n",
    "    #right biceps pos 18\n",
    "    r_x12 = abs(image_front_T_kp[8][1]+image_front_T_kp[6][1])/2\n",
    "    r_y12 = image_front_T_kp[6][0] + (image_front_T_kp[8][0] + image_front_T_kp[6][0])/2\n",
    "    \n",
    "\n",
    "    #left chest, right chest                      pos 19 / 20\n",
    "    #left chest pos 19 \n",
    "    l_x2 = image_front_T_kp[5][1] + abs(image_front_T_kp[6][1] - image_front_T_kp[5][1]) * 1/4   #considering chest \"x\" located  at 1/4 vs soulders\n",
    "    l_y2 = image_front_T_kp[5][0] + abs(image_front_T_kp[11][0] - image_front_T_kp[5][0]) * 1/3  #considering chest \"y\" located  at 1/3 vs shoulders/hips\n",
    "    #right chest pos 20\n",
    "    r_x2 = image_front_T_kp[5][1] + abs(image_front_T_kp[6][1] - image_front_T_kp[5][1]) * 3/4   #considering chest \"x\" located  at 3/4 vs soulders\n",
    "    r_y2 = image_front_T_kp[6][0] + abs(image_front_T_kp[12][0] - image_front_T_kp[6][0]) * 1/3  #considering chest \"y\" located  at 1/3 vs shoulders/hips\n",
    "    \n",
    "    #left waist, right waist                       pos 21 / 22\n",
    "    #left waist pos 21\n",
    "    l_x3 = l_x2                                                                                   #considering chest \"x\" located  at 1/4 vs soulders\n",
    "    l_y3 = image_front_T_kp[5][0] + abs(image_front_T_kp[11][0] - image_front_T_kp[5][0]) * 2/3  #considering chest \"y\" located  at 2/3 vs shoulders/hi\n",
    "    #right waist pos 22\n",
    "    r_x3 = r_x2                                                                                   #considering chest \"x\" located  at 3/4 vs soulders\n",
    "    r_y3 = image_front_T_kp[6][0] + abs(image_front_T_kp[12][0] - image_front_T_kp[6][0]) * 2/3  #considering chest \"y\" located  at 2/3 vs shoulders/hips\n",
    "    \n",
    "    #append new keypoints into matrix_kp front T, front I\n",
    "    new_matrix_kp_T = np.vstack((image_front_T_kp, np.array([l_y11, l_x11, 0]), np.array([r_y11, r_x11, 0]), \\\n",
    "                              np.array([l_y2, l_x2, 0]), np.array([r_y2, r_x2, 0]), \\\n",
    "                              np.array([l_y3, l_x3, 0]), np.array([r_y3, r_x3, 0])))\n",
    "    \n",
    "    new_matrix_kp_I = np.vstack((image_front_I_kp, np.array([l_y12, l_x12, 0]), np.array([r_y12, r_x12, 0]), \\\n",
    "                              np.array([l_y2, l_x2, 0]), np.array([r_y2, r_x2, 0]), \\\n",
    "                              np.array([l_y3, l_x3, 0]), np.array([r_y3, r_x3, 0])))\n",
    "\n",
    "    \n",
    "    return new_matrix_kp_T, new_matrix_kp_I\n"
   ]
  },
  {
   "cell_type": "code",
   "execution_count": 121,
   "id": "0a7e26fe",
   "metadata": {
    "scrolled": true
   },
   "outputs": [
    {
     "data": {
      "text/plain": [
       "(array([[0.17349216, 0.56427723, 0.5236098 ],\n",
       "        [0.16178887, 0.57046986, 0.52236605],\n",
       "        [0.16322146, 0.55656576, 0.6874031 ],\n",
       "        [0.17638007, 0.5828533 , 0.72497916],\n",
       "        [0.17946883, 0.55041116, 0.76183915],\n",
       "        [0.24724907, 0.60664934, 0.6900308 ],\n",
       "        [0.2661889 , 0.5356395 , 0.7871611 ],\n",
       "        [0.3592037 , 0.61628497, 0.5966688 ],\n",
       "        [0.3696247 , 0.549422  , 0.5074349 ],\n",
       "        [0.4646902 , 0.6258748 , 0.59548384],\n",
       "        [0.29332668, 0.5630101 , 0.47110534],\n",
       "        [0.42144495, 0.6031153 , 0.84182334],\n",
       "        [0.42856565, 0.559704  , 0.79291236],\n",
       "        [0.5857684 , 0.6084723 , 0.7321706 ],\n",
       "        [0.5991622 , 0.5660539 , 0.78673285],\n",
       "        [0.72647244, 0.61776626, 0.7692236 ],\n",
       "        [0.7399327 , 0.59163785, 0.62649405],\n",
       "        [0.30322638, 0.62110279, 0.        ],\n",
       "        [0.3179068 , 0.549422  , 0.        ],\n",
       "        [0.30531436, 0.6244018 , 0.        ],\n",
       "        [0.32031448, 0.65990672, 0.        ],\n",
       "        [0.36337966, 0.6244018 , 0.        ],\n",
       "        [0.37444007, 0.65990672, 0.        ]]),\n",
       " array([[0.13626342, 0.57170576, 0.5406235 ],\n",
       "        [0.12581952, 0.58031356, 0.5950187 ],\n",
       "        [0.12306002, 0.5641533 , 0.5945765 ],\n",
       "        [0.1330445 , 0.58676374, 0.46940276],\n",
       "        [0.1319304 , 0.55489534, 0.48606545],\n",
       "        [0.19684711, 0.6048043 , 0.37372732],\n",
       "        [0.19630507, 0.53479004, 0.30953246],\n",
       "        [0.26008302, 0.6065161 , 0.42267993],\n",
       "        [0.25835255, 0.51460385, 0.49753478],\n",
       "        [0.23563783, 0.59914243, 0.28201967],\n",
       "        [0.25673127, 0.49728453, 0.4280582 ],\n",
       "        [0.3964715 , 0.5841227 , 0.5168887 ],\n",
       "        [0.3921252 , 0.54193866, 0.47156578],\n",
       "        [0.5595846 , 0.58796036, 0.54856455],\n",
       "        [0.5583141 , 0.54261553, 0.52169836],\n",
       "        [0.7302867 , 0.5933529 , 0.4042293 ],\n",
       "        [0.7241063 , 0.5598221 , 0.30607915],\n",
       "        [0.30322638, 0.61146716, 0.        ],\n",
       "        [0.5840957 , 0.54253075, 0.        ],\n",
       "        [0.30531436, 0.6244018 , 0.        ],\n",
       "        [0.32031448, 0.65990672, 0.        ],\n",
       "        [0.36337966, 0.6244018 , 0.        ],\n",
       "        [0.37444007, 0.65990672, 0.        ]]))"
      ]
     },
     "execution_count": 121,
     "metadata": {},
     "output_type": "execute_result"
    }
   ],
   "source": [
    "additional_kp_front(image_front_T_kp, image_front_I_kp)"
   ]
  },
  {
   "cell_type": "code",
   "execution_count": 123,
   "id": "d5cba7d0",
   "metadata": {},
   "outputs": [],
   "source": [
    "#ADDITIONAL KEYPOINTS on picture PROFILE\n",
    "\n",
    "#left biceps, right biceps                      pos 17 / 18\n",
    "\n",
    "def additional_kp_profile(image_profile_kp):\n",
    "    #left biceps pos 17\n",
    "    l_x1 = (image_profile_kp[7][1] + image_profile_kp[5][1])/2                            #average on x\n",
    "    l_y1 = image_front_T_kp[5][0] + (image_front_T_kp[7][0] - image_front_T_kp[5][0])/2   #considering biceps is at half shoulder/elbow\n",
    "    #right biceps pos 18\n",
    "    r_x1 = abs(image_front_T_kp[8][1] + image_front_T_kp[6][1])/2                         #average on x\n",
    "    r_y1 = image_front_T_kp[6][0] + (image_front_T_kp[8][0] + image_front_T_kp[6][0])/2   #considering biceps is at half shoulder/elbow\n",
    "\n",
    "    #left chest, right chest                      pos 19 / 20\n",
    "    #left chest pos 19 \n",
    "    l_x2 = l_x1\n",
    "    l_y2 = image_front_T_kp[5][0] + abs(image_front_T_kp[11][0] - image_front_T_kp[5][0]) * 1/3  #considering chest \"y\" located  at 1/3 vs shoulders/hips\n",
    "    #right chest pos 20\n",
    "    r_x2 = r_x1 \n",
    "    r_y2 = image_front_T_kp[6][0] + abs(image_front_T_kp[12][0] - image_front_T_kp[6][0]) * 1/3  #considering chest \"y\" located  at 1/3 vs shoulders/hips\n",
    "\n",
    "    #left waist, right waist                       pos 21 / 22\n",
    "    #left waist pos 21\n",
    "    l_x3 = l_x1\n",
    "    l_y3 = image_front_T_kp[5][0] + abs(image_front_T_kp[11][0] - image_front_T_kp[5][0]) * 2/3  #considering chest \"y\" located  at 2/3 vs shoulders/hi\n",
    "    #right waist pos 22\n",
    "    r_x3 = r_x1\n",
    "    r_y3 = image_front_T_kp[6][0] + abs(image_front_T_kp[12][0] - image_front_T_kp[6][0]) * 2/3  #considering chest \"y\" located  at 2/3 vs shoulders/hips\n",
    "    \n",
    "    #append new keypoints into matrix_kp\n",
    "    new_matrix_kp_profile = np.vstack((image_front_T_kp, np.array([l_y1, l_x1, 0]), np.array([r_y1, r_x1, 0]), \\\n",
    "                              np.array([l_y2, l_x2, 0]), np.array([r_y2, r_x2, 0]), \\\n",
    "                              np.array([l_y3, l_x3, 0]), np.array([r_y3, r_x3, 0])))\n",
    "\n",
    "    \n",
    "    return new_matrix_kp_profile\n"
   ]
  },
  {
   "cell_type": "code",
   "execution_count": 124,
   "id": "bb0e2525",
   "metadata": {},
   "outputs": [
    {
     "data": {
      "text/plain": [
       "array([[0.17349216, 0.56427723, 0.5236098 ],\n",
       "       [0.16178887, 0.57046986, 0.52236605],\n",
       "       [0.16322146, 0.55656576, 0.6874031 ],\n",
       "       [0.17638007, 0.5828533 , 0.72497916],\n",
       "       [0.17946883, 0.55041116, 0.76183915],\n",
       "       [0.24724907, 0.60664934, 0.6900308 ],\n",
       "       [0.2661889 , 0.5356395 , 0.7871611 ],\n",
       "       [0.3592037 , 0.61628497, 0.5966688 ],\n",
       "       [0.3696247 , 0.549422  , 0.5074349 ],\n",
       "       [0.4646902 , 0.6258748 , 0.59548384],\n",
       "       [0.29332668, 0.5630101 , 0.47110534],\n",
       "       [0.42144495, 0.6031153 , 0.84182334],\n",
       "       [0.42856565, 0.559704  , 0.79291236],\n",
       "       [0.5857684 , 0.6084723 , 0.7321706 ],\n",
       "       [0.5991622 , 0.5660539 , 0.78673285],\n",
       "       [0.72647244, 0.61776626, 0.7692236 ],\n",
       "       [0.7399327 , 0.59163785, 0.62649405],\n",
       "       [0.30322638, 0.56476346, 0.        ],\n",
       "       [0.5840957 , 0.54253075, 0.        ],\n",
       "       [0.30531436, 0.56476346, 0.        ],\n",
       "       [0.32031448, 0.54253075, 0.        ],\n",
       "       [0.36337966, 0.56476346, 0.        ],\n",
       "       [0.37444007, 0.54253075, 0.        ]])"
      ]
     },
     "execution_count": 124,
     "metadata": {},
     "output_type": "execute_result"
    }
   ],
   "source": [
    "additional_kp_profile(image_profile_kp)"
   ]
  },
  {
   "cell_type": "code",
   "execution_count": 125,
   "id": "06ad427d",
   "metadata": {},
   "outputs": [],
   "source": [
    "#Convert Matrix Keypoints coordinates in x,y to pixels(contouring matrix)\n",
    "def convert_kp_matrix_front_T(matrix_kp_front_T, image_h, image_l):\n",
    "    x = np.round(matrix_kp_front_T[: , 1] * image_l)\n",
    "    y = np.round(matrix_kp_front_T[: , 0] * image_h)\n",
    "    matrix_kp_converted = list(zip(y,x))\n",
    "    return matrix_kp_converted\n",
    "\n",
    "def convert_kp_matrix_front_I(matrix_kp_front_I, image_h, image_l):\n",
    "    x = np.round(matrix_kp_front_I[: , 1] * image_l)\n",
    "    y = np.round(matrix_kp_front_I[: , 0] * image_h)\n",
    "    matrix_kp_converted = list(zip(y,x))\n",
    "    return matrix_kp_converted\n",
    "\n",
    "def convert_kp_matrix_profile(matrix_kp_profile, image_h, image_l):\n",
    "    x = np.round(matrix_kp_profile[: , 1] * image_l)\n",
    "    y = np.round(matrix_kp_profile[: , 0] * image_h)\n",
    "    matrix_kp_converted = list(zip(y,x))\n",
    "    return matrix_kp_converted\n",
    "\n",
    "# Define ratio between real measure(in mm) vs pixel position\n",
    "def ratio_real_vs_pixel(real_height, matrix_image_contouring, image_h):\n",
    "    list_sum_y=[]\n",
    "    #sum of all \"1\" for each x to get the sum max ie. height\n",
    "    for i in range(0,image_h):\n",
    "        list_sum_y.append(np.sum(matrix_image_contouring[: , i]))\n",
    "    ratio_mm_px = real_height / max(list_sum_y)                            #ratio real height (in mm) / max sum of \"1\"\n",
    "    return ratio_mm_px"
   ]
  },
  {
   "cell_type": "code",
   "execution_count": 103,
   "id": "e78e2ec6",
   "metadata": {},
   "outputs": [
    {
     "name": "stdout",
     "output_type": "stream",
     "text": [
      "0.009635630000000006 0.303226385 0.01378249999999992 0.3179068 0.6244018 0.30531436333333334 0.6599067200000001 0.32031448333333334 0.6244018 0.36337965666666666 0.6599067200000001 0.3744400666666667\n"
     ]
    }
   ],
   "source": [
    "image_front_T_kp = additional_kp(image_front_T_kp)"
   ]
  },
  {
   "cell_type": "code",
   "execution_count": 127,
   "id": "8cff55dc",
   "metadata": {
    "collapsed": true
   },
   "outputs": [
    {
     "data": {
      "text/plain": [
       "[(50.0, 163.0),\n",
       " (47.0, 164.0),\n",
       " (47.0, 160.0),\n",
       " (51.0, 168.0),\n",
       " (52.0, 159.0),\n",
       " (71.0, 175.0),\n",
       " (77.0, 154.0),\n",
       " (103.0, 177.0),\n",
       " (106.0, 158.0),\n",
       " (134.0, 180.0),\n",
       " (84.0, 162.0),\n",
       " (121.0, 174.0),\n",
       " (123.0, 161.0),\n",
       " (169.0, 175.0),\n",
       " (173.0, 163.0),\n",
       " (209.0, 178.0),\n",
       " (213.0, 170.0),\n",
       " (87.0, 179.0),\n",
       " (92.0, 158.0),\n",
       " (88.0, 180.0),\n",
       " (92.0, 190.0),\n",
       " (105.0, 180.0),\n",
       " (108.0, 190.0)]"
      ]
     },
     "execution_count": 127,
     "metadata": {},
     "output_type": "execute_result"
    }
   ],
   "source": [
    "convert_kp_matrix_front_T(additional_kp_front(image_front_T_kp, image_front_I_kp)[0],288, 288)"
   ]
  },
  {
   "cell_type": "code",
   "execution_count": 128,
   "id": "63551eec",
   "metadata": {
    "collapsed": true
   },
   "outputs": [
    {
     "data": {
      "text/plain": [
       "[(39.0, 165.0),\n",
       " (36.0, 167.0),\n",
       " (35.0, 162.0),\n",
       " (38.0, 169.0),\n",
       " (38.0, 160.0),\n",
       " (57.0, 174.0),\n",
       " (57.0, 154.0),\n",
       " (75.0, 175.0),\n",
       " (74.0, 148.0),\n",
       " (68.0, 173.0),\n",
       " (74.0, 143.0),\n",
       " (114.0, 168.0),\n",
       " (113.0, 156.0),\n",
       " (161.0, 169.0),\n",
       " (161.0, 156.0),\n",
       " (210.0, 171.0),\n",
       " (209.0, 161.0),\n",
       " (87.0, 176.0),\n",
       " (168.0, 156.0),\n",
       " (88.0, 180.0),\n",
       " (92.0, 190.0),\n",
       " (105.0, 180.0),\n",
       " (108.0, 190.0)]"
      ]
     },
     "execution_count": 128,
     "metadata": {},
     "output_type": "execute_result"
    }
   ],
   "source": [
    "convert_kp_matrix_front_T(additional_kp_front(image_front_T_kp, image_front_I_kp)[1],288, 288)"
   ]
  },
  {
   "cell_type": "code",
   "execution_count": 129,
   "id": "eece8b0f",
   "metadata": {
    "collapsed": true
   },
   "outputs": [
    {
     "data": {
      "text/plain": [
       "[(50.0, 163.0),\n",
       " (47.0, 164.0),\n",
       " (47.0, 160.0),\n",
       " (51.0, 168.0),\n",
       " (52.0, 159.0),\n",
       " (71.0, 175.0),\n",
       " (77.0, 154.0),\n",
       " (103.0, 177.0),\n",
       " (106.0, 158.0),\n",
       " (134.0, 180.0),\n",
       " (84.0, 162.0),\n",
       " (121.0, 174.0),\n",
       " (123.0, 161.0),\n",
       " (169.0, 175.0),\n",
       " (173.0, 163.0),\n",
       " (209.0, 178.0),\n",
       " (213.0, 170.0),\n",
       " (87.0, 163.0),\n",
       " (168.0, 156.0),\n",
       " (88.0, 163.0),\n",
       " (92.0, 156.0),\n",
       " (105.0, 163.0),\n",
       " (108.0, 156.0)]"
      ]
     },
     "execution_count": 129,
     "metadata": {},
     "output_type": "execute_result"
    }
   ],
   "source": [
    "convert_kp_matrix_profile(additional_kp_profile(image_profile_kp), 288,288)"
   ]
  },
  {
   "cell_type": "code",
   "execution_count": null,
   "id": "bf749b7a",
   "metadata": {},
   "outputs": [],
   "source": [
    "ratio_mm_px = ratio_real_vs_pixel(19)"
   ]
  },
  {
   "cell_type": "markdown",
   "id": "60b0cc73",
   "metadata": {},
   "source": [
    "## Measurements for T-shirt\n",
    "https://freesewing.org/designs/teagan/"
   ]
  },
  {
   "cell_type": "code",
   "execution_count": null,
   "id": "eb03194a",
   "metadata": {},
   "outputs": [],
   "source": [
    "# ratio_mm_px =  ratio_real_vs_pixel(190, matrix_image_contouring, image_h):"
   ]
  },
  {
   "cell_type": "code",
   "execution_count": 109,
   "id": "9cea6878",
   "metadata": {},
   "outputs": [],
   "source": [
    "#Front picture in T shape\n",
    "def biceps_circumference(matrix_kp_front_converted, matrix_image_front_cont):\n",
    "    #left biceps\n",
    "    x1 = matrix_kp_conv[17][1]\n",
    "    sum_left = np.sum(matrix_image_front_cont[:, x1])\n",
    "    \n",
    "    #right biceps\n",
    "    x2 = matrix_kp_conv[18][1]\n",
    "    sum_right = np.sum(matrix_image_front_cont[:, x2])\n",
    "    \n",
    "    #diameter left / right biceps \"height\"\n",
    "    average_mm = ((sum_left + sum_right) / 2) * ratio_mm_px\n",
    "    #biceps circumference in mm\n",
    "    circumference_biceps = (average_mm) * math.pi\n",
    "        \n",
    "    return  circumference_biceps"
   ]
  },
  {
   "cell_type": "code",
   "execution_count": null,
   "id": "b2bd0534",
   "metadata": {},
   "outputs": [],
   "source": [
    "biceps_circumference()"
   ]
  },
  {
   "cell_type": "code",
   "execution_count": null,
   "id": "d4875a62",
   "metadata": {},
   "outputs": [],
   "source": [
    "#Front picture in T shape + profile picture\n",
    "def chest_circumference(matrix_kp_front_converted, matrix_image_front_cont, matrix_kp_profile_converted, matrix_image_profile_cont, ):\n",
    "    #measure width (along axis x) for given y, on front picture\n",
    "    y_front1 = matrix_kp_front_converted[19][1]\n",
    "    y_front2 = matrix_kp_front_converted[20][1]\n",
    "    y _average = (y_front1+y_front2)/2\n",
    "    sum_x_front = np.sum(matrix_image_front_cont[y,:])\n",
    "    \n",
    "    #measure width (along axis x) for given y, on profile picture\n",
    "    y_prof1 = matrix_kp_front_converted[19][1]\n",
    "    y_prof2 = matrix_kp_front_converted[20][1]\n",
    "    y _average = (y_prof1 + y_prof2)/2\n",
    "    sum_x_prof = np.sum(matrix_image_front_cont[y,:])\n",
    "    \n",
    "    #chest circumference in mm\n",
    "    circumference_chest = (sum_x_front + sum_x_prof) * 2 * ratio_mm_px\n",
    "    \n",
    "    return circumference_chest"
   ]
  },
  {
   "cell_type": "code",
   "execution_count": null,
   "id": "0c66bdea",
   "metadata": {},
   "outputs": [],
   "source": [
    "#To be reviewed\n",
    "#Current solution is distance between shoulder (# 5 / 6) and waist (# 21 / 22) with a factor 1.2\n",
    "def hps_to_waist_back(matrix_kp_front_converted, matrix_image_front_cont):\n",
    "    a = (matrix_kp_front_converted[5][0] - matrix_kp_front_converted[21][0]) + (matrix_kp_front_converted[6][0] - matrix_kp_front_converted[22][0])/2\n",
    "    #convert in mm and apply factor of 1.2\n",
    "    distance = a * 1.2 * ratio_mm_px\n",
    "    \n",
    "    return distance\n",
    "    "
   ]
  },
  {
   "cell_type": "code",
   "execution_count": null,
   "id": "650bd7d9",
   "metadata": {},
   "outputs": [],
   "source": [
    "#Front picture in T shape + Profile picture\n",
    "def hips_circumference(matrix_kp_front_converted, matrix_image_front_cont, matrix_kp_profile_converted, matrix_image_profile_cont):\n",
    "    \n",
    "    #measure width (along axis x) for given y, on front picture\n",
    "    y_front1 = matrix_kp_front_converted[11][1]\n",
    "    y_front2 = matrix_kp_front_converted[12][1]\n",
    "    y _average = (y_front1+y_front2)/2\n",
    "    sum_x_front = np.sum(matrix_image_front_cont[y,:])\n",
    "    \n",
    "    #measure width (along axis x) for given y, on profile picture\n",
    "    y_prof1 = matrix_kp_front_converted[11][1]\n",
    "    y_prof2 = matrix_kp_front_converted[12][1]\n",
    "    y _average = (y_prof1 + y_prof2)/2\n",
    "    sum_x_prof = np.sum(matrix_image_front_cont[y,:])\n",
    "    \n",
    "    #hips circumference in mm\n",
    "    hips_circ = (sum_x_front + sum_x_prof) * 2 * ratio_mm_px\n",
    "    \n",
    "    return hips_circ"
   ]
  },
  {
   "cell_type": "code",
   "execution_count": null,
   "id": "865498d4",
   "metadata": {},
   "outputs": [],
   "source": [
    "#Profile picture\n",
    "def neck_circumference( matrix_kp_profile_converted, matrix_image_profile_cont):\n",
    "    #Estimated neck position on y located at 1/3 above shoulders vs ears\n",
    "    neck_y = abs(matrix_kp_profile_converted[5][0] - matrix_kp_profile_converted[3][0])\n",
    "    #sum over x considering neck_y = a\n",
    "    sum_x = np.sum(matrix_image_profile_cont[neck_y,:])\n",
    "    \n",
    "    #neck circumference in mm\n",
    "    neck_circ = (sum_x * ratio_mm_px) * math.pi\n",
    "    \n",
    "    return neck_circ\n",
    "    "
   ]
  },
  {
   "cell_type": "code",
   "execution_count": null,
   "id": "e8a28612",
   "metadata": {},
   "outputs": [],
   "source": [
    "#Front picture in T shape\n",
    "#Consider distance (on x) between shoulder kp and ear kp, plus half width of biceps\n",
    "def shoulder_slope(matrix_kp_front_converted, matrix_image_front_cont):\n",
    "    #left biceps\n",
    "    x1 = matrix_kp_front_converted[17][1]\n",
    "    sum_left = np.sum(matrix_image_front_cont[:, x1])\n",
    "    \n",
    "    #distance (on x) between kp for shoulder / ear\n",
    "    a = abs(matrix_kp_front_converted[5][1] - matrix_kp_front_converted[3][1]) + abs(matrix_kp_front_converted[4][1] - matrix_kp_front_converted[6][1]) / 2\n",
    "    \n",
    "    #overall distance in mm \n",
    "    total_distance = distance + sum_left/2 * ratio_mm_px\n",
    "    \n",
    "    return total_distance\n"
   ]
  },
  {
   "cell_type": "code",
   "execution_count": null,
   "id": "f175918d",
   "metadata": {},
   "outputs": [],
   "source": [
    "#Front picture in I shape\n",
    "def shoulder_to_shoulder( matrix_kp_front_converted, matrix_image_front_cont ):\n",
    "    #average y for shoulders kp\n",
    "    x1 =( matrix_kp_front_converted[5][1] + matrix_kp_front_converted[6][1] ) / 2\n",
    "    #distance (on x) between shoulders \n",
    "    sum_shoulders = np.sum(matrix_image_front_cont[x1, :])\n",
    "    #convert distance in mm\n",
    "    distance = sum_shoulders * ratio_mm_px\n",
    "    \n",
    "    return distance \n",
    "    "
   ]
  },
  {
   "cell_type": "code",
   "execution_count": null,
   "id": "925dbe8d",
   "metadata": {},
   "outputs": [],
   "source": [
    "#Front picture in T shape + Profile picture\n",
    "def waist_circumference(matrix_kp_front_converted, matrix_image_front_cont, matrix_kp_profile_converted, matrix_image_profile_cont):\n",
    "    \n",
    "    #measure width (along axis x) for given y, on front picture\n",
    "    y_front1 = matrix_kp_front_converted[21][0]\n",
    "    y_front2 = matrix_kp_front_converted[22][0]\n",
    "    y _average = (y_front1+y_front2)/2\n",
    "    sum_x_front = np.sum(matrix_image_front_cont[y,:])\n",
    "    \n",
    "    #measure width (along axis x) for given y, on profile picture\n",
    "    y_prof1 = matrix_kp_profile_converted[11][0]\n",
    "    y_prof2 = matrix_kp_profile_converted[12][0]\n",
    "    y _average = (y_prof1 + y_prof2)/2\n",
    "    sum_x_prof = np.sum(matrix_image_front_cont[y,:])\n",
    "    \n",
    "    #waist circumference in mm\n",
    "    waist_circumference = (sum_x_front + sum_x_prof) * 2 * ratio_mm_px\n",
    "    \n",
    "    return waist_circumference\n"
   ]
  },
  {
   "cell_type": "code",
   "execution_count": null,
   "id": "e367ffad",
   "metadata": {},
   "outputs": [],
   "source": [
    "#Front picture in T shape\n",
    "def waist_to_hips(matrix_kp_front_converted, matrix_image_front_cont):\n",
    "    #average distance (on y) between waist(21,22) and hips(11,12) with correction factor of 1.2\n",
    "    a = abs(matrix_kp_front_converted[22][1] - matrix_kp_front_converted[12][1])+abs(matrix_kp_front_converted[21][1] - matrix_kp_front_converted[11][1]) / 2\n",
    "    #convert in mm and apply factor of 1.2\n",
    "    distance = a * 1.2 * ratio_mm_px\n",
    "    \n",
    "    return distance\n"
   ]
  },
  {
   "cell_type": "code",
   "execution_count": null,
   "id": "2faf18fc",
   "metadata": {},
   "outputs": [],
   "source": []
  },
  {
   "cell_type": "code",
   "execution_count": null,
   "id": "72423d51",
   "metadata": {},
   "outputs": [],
   "source": []
  },
  {
   "cell_type": "code",
   "execution_count": 1,
   "id": "b1fda9d4",
   "metadata": {},
   "outputs": [],
   "source": [
    "A = [[0.13626342, 0.57170576, 0.5406235 ],\n",
    "       [0.12581952, 0.58031356, 0.5950187 ],\n",
    "       [0.12306002, 0.5641533 , 0.5945765 ],\n",
    "       [0.1330445 , 0.58676374, 0.46940276],\n",
    "       [0.1319304 , 0.55489534, 0.48606545],\n",
    "       [0.19684711, 0.6048043 , 0.37372732],\n",
    "       [0.19630507, 0.53479004, 0.30953246],\n",
    "       [0.26008302, 0.6065161 , 0.42267993],\n",
    "       [0.25835255, 0.51460385, 0.49753478],\n",
    "       [0.23563783, 0.59914243, 0.28201967],\n",
    "       [0.25673127, 0.49728453, 0.4280582 ],\n",
    "       [0.3964715 , 0.5841227 , 0.5168887 ],\n",
    "       [0.3921252 , 0.54193866, 0.47156578],\n",
    "       [0.5595846 , 0.58796036, 0.54856455],\n",
    "       [0.5583141 , 0.54261553, 0.52169836],\n",
    "       [0.7302867 , 0.5933529 , 0.4042293 ],\n",
    "       [0.7241063 , 0.5598221 , 0.30607915]]\n"
   ]
  },
  {
   "cell_type": "code",
   "execution_count": 44,
   "id": "ec76fcf0",
   "metadata": {},
   "outputs": [
    {
     "data": {
      "text/plain": [
       "array([[ 1.5,  2. ,  3. ],\n",
       "       [ 4. ,  5. ,  6. ],\n",
       "       [10. , -8. , -4. ],\n",
       "       [12. , -4. , -1. ]])"
      ]
     },
     "execution_count": 44,
     "metadata": {},
     "output_type": "execute_result"
    }
   ],
   "source": [
    "m = np.array([(1.5,2,3), (4,5,6), (10,-8,-4), (12,-4,-1)])\n",
    "m"
   ]
  },
  {
   "cell_type": "code",
   "execution_count": 45,
   "id": "7d3c20e9",
   "metadata": {},
   "outputs": [
    {
     "data": {
      "text/plain": [
       "array([4., 5., 6.])"
      ]
     },
     "execution_count": 45,
     "metadata": {},
     "output_type": "execute_result"
    }
   ],
   "source": [
    "m[1,:]"
   ]
  },
  {
   "cell_type": "code",
   "execution_count": 41,
   "id": "f00aa36e",
   "metadata": {},
   "outputs": [
    {
     "data": {
      "text/plain": [
       "-5.0"
      ]
     },
     "execution_count": 41,
     "metadata": {},
     "output_type": "execute_result"
    }
   ],
   "source": [
    "sum(m[:,1])"
   ]
  },
  {
   "cell_type": "code",
   "execution_count": 35,
   "id": "d8721d08",
   "metadata": {},
   "outputs": [
    {
     "data": {
      "text/plain": [
       "4"
      ]
     },
     "execution_count": 35,
     "metadata": {},
     "output_type": "execute_result"
    }
   ],
   "source": [
    "m.shape[0]"
   ]
  },
  {
   "cell_type": "code",
   "execution_count": 36,
   "id": "a278ddd6",
   "metadata": {},
   "outputs": [
    {
     "data": {
      "text/plain": [
       "range(0, 11)"
      ]
     },
     "execution_count": 36,
     "metadata": {},
     "output_type": "execute_result"
    }
   ],
   "source": [
    "bb = range(0,11)\n",
    "bb"
   ]
  },
  {
   "cell_type": "code",
   "execution_count": 37,
   "id": "32e8a2e5",
   "metadata": {},
   "outputs": [
    {
     "name": "stdout",
     "output_type": "stream",
     "text": [
      "0\n",
      "1\n",
      "2\n",
      "3\n",
      "4\n",
      "5\n",
      "6\n",
      "7\n",
      "8\n",
      "9\n",
      "10\n"
     ]
    }
   ],
   "source": [
    "for i in bb:\n",
    "    print(i)"
   ]
  },
  {
   "cell_type": "code",
   "execution_count": null,
   "id": "f1330819",
   "metadata": {},
   "outputs": [],
   "source": []
  }
 ],
 "metadata": {
  "kernelspec": {
   "display_name": "Python 3 (ipykernel)",
   "language": "python",
   "name": "python3"
  },
  "language_info": {
   "codemirror_mode": {
    "name": "ipython",
    "version": 3
   },
   "file_extension": ".py",
   "mimetype": "text/x-python",
   "name": "python",
   "nbconvert_exporter": "python",
   "pygments_lexer": "ipython3",
   "version": "3.8.12"
  },
  "toc": {
   "base_numbering": 1,
   "nav_menu": {},
   "number_sections": true,
   "sideBar": true,
   "skip_h1_title": false,
   "title_cell": "Table of Contents",
   "title_sidebar": "Contents",
   "toc_cell": false,
   "toc_position": {},
   "toc_section_display": true,
   "toc_window_display": false
  }
 },
 "nbformat": 4,
 "nbformat_minor": 5
}
