{
 "cells": [
  {
   "cell_type": "code",
   "execution_count": 1,
   "id": "75eb6ec5",
   "metadata": {},
   "outputs": [],
   "source": [
    "%load_ext autoreload\n",
    "%autoreload 2"
   ]
  },
  {
   "cell_type": "code",
   "execution_count": 23,
   "id": "aa4bc5b9",
   "metadata": {},
   "outputs": [
    {
     "name": "stdout",
     "output_type": "stream",
     "text": [
      "get_data réalisé\n",
      "Création d'un validation set\n"
     ]
    }
   ],
   "source": [
    "import sys\n",
    "\n",
    "from paittern.contouring import trainer2, model\n",
    "\n",
    "BUCKET_NAME='wagon-bootcamp-paittern'\n",
    "\n",
    "X_train = trainer2.get_data('image', BUCKET_NAME)\n",
    "Y_train = trainer2.get_data('mask', BUCKET_NAME) \n",
    "print(\"get_data réalisé\")\n",
    "n = 1000\n",
    "X_train = trainer2.load_data(X_train, n, BUCKET_NAME, 3)\n",
    "y_train = trainer2.load_data(Y_train, n, BUCKET_NAME, 0)\n",
    "#print(X_train.shape, y_train.shape)\n",
    "\n",
    "print(\"Création d'un validation set\")\n",
    "X_val = X_train[round(0.8*n):]\n",
    "y_val = y_train[round(0.8*n):]\n",
    "\n",
    "X_train = X_train[:round(0.8*n)]\n",
    "y_train = y_train[:round(0.8*n)]"
   ]
  },
  {
   "cell_type": "code",
   "execution_count": 24,
   "id": "8a63205d",
   "metadata": {},
   "outputs": [],
   "source": [
    "memroy_used = sys.getsizeof(X_train)+sys.getsizeof(Y_train)+sys.getsizeof(y_train)+sys.getsizeof(X_val)+sys.getsizeof(y_val)\n",
    "\n"
   ]
  },
  {
   "cell_type": "code",
   "execution_count": 25,
   "id": "7b96ed0d",
   "metadata": {},
   "outputs": [
    {
     "data": {
      "text/plain": [
       "0.0026649056603773587"
      ]
     },
     "execution_count": 25,
     "metadata": {},
     "output_type": "execute_result"
    }
   ],
   "source": [
    "memroy_used/95400000"
   ]
  },
  {
   "cell_type": "code",
   "execution_count": 26,
   "id": "256bcf83",
   "metadata": {},
   "outputs": [
    {
     "data": {
      "text/plain": [
       "dtype('uint8')"
      ]
     },
     "execution_count": 26,
     "metadata": {},
     "output_type": "execute_result"
    }
   ],
   "source": [
    "X_train.dtype"
   ]
  },
  {
   "cell_type": "code",
   "execution_count": 27,
   "id": "1c19a1fb",
   "metadata": {},
   "outputs": [
    {
     "data": {
      "text/plain": [
       "dtype('uint8')"
      ]
     },
     "execution_count": 27,
     "metadata": {},
     "output_type": "execute_result"
    }
   ],
   "source": [
    "y_train.dtype"
   ]
  },
  {
   "cell_type": "code",
   "execution_count": 28,
   "id": "6ec4f9a7",
   "metadata": {},
   "outputs": [],
   "source": [
    "model2 = model.deeplabv3_plus((512,512,3))"
   ]
  },
  {
   "cell_type": "code",
   "execution_count": 29,
   "id": "39b5c40f",
   "metadata": {},
   "outputs": [],
   "source": [
    "from tensorflow.keras.optimizers import Adam\n",
    "from tensorflow.keras.metrics import Recall, Precision"
   ]
  },
  {
   "cell_type": "code",
   "execution_count": 30,
   "id": "f4bf6cdd",
   "metadata": {},
   "outputs": [],
   "source": [
    "lr = 0.1"
   ]
  },
  {
   "cell_type": "code",
   "execution_count": 31,
   "id": "23039eca",
   "metadata": {},
   "outputs": [],
   "source": [
    "from segmentation_models import Unet\n",
    "from segmentation_models import get_preprocessing\n",
    "from segmentation_models.losses import bce_jaccard_loss"
   ]
  },
  {
   "cell_type": "code",
   "execution_count": 32,
   "id": "ad808129",
   "metadata": {},
   "outputs": [],
   "source": [
    "model2.compile('Adam', loss=bce_jaccard_loss, metrics=Precision())"
   ]
  },
  {
   "cell_type": "code",
   "execution_count": 33,
   "id": "a339ff1d",
   "metadata": {},
   "outputs": [],
   "source": [
    "X_train = X_train.astype('float32')\n",
    "y_train = y_train.astype('float32')\n",
    "X_val = X_val.astype('float32')\n",
    "y_val = y_val.astype('float32')"
   ]
  },
  {
   "cell_type": "code",
   "execution_count": null,
   "id": "9256abd9",
   "metadata": {},
   "outputs": [
    {
     "name": "stdout",
     "output_type": "stream",
     "text": [
      "Epoch 1/10\n"
     ]
    }
   ],
   "source": [
    "model2.fit(X_train, y_train,\n",
    "          epochs=10,\n",
    "          validation_data = (X_val, y_val),\n",
    "          )"
   ]
  },
  {
   "cell_type": "code",
   "execution_count": null,
   "id": "6a0d43d7",
   "metadata": {},
   "outputs": [],
   "source": [
    "import joblib"
   ]
  },
  {
   "cell_type": "code",
   "execution_count": null,
   "id": "6e76eb9d",
   "metadata": {},
   "outputs": [],
   "source": [
    "joblib.dump(model2, 'my_trained_model2.joblib')"
   ]
  },
  {
   "cell_type": "code",
   "execution_count": null,
   "id": "d82ae2c4",
   "metadata": {},
   "outputs": [],
   "source": []
  }
 ],
 "metadata": {
  "kernelspec": {
   "display_name": "Python 3 (ipykernel)",
   "language": "python",
   "name": "python3"
  },
  "language_info": {
   "codemirror_mode": {
    "name": "ipython",
    "version": 3
   },
   "file_extension": ".py",
   "mimetype": "text/x-python",
   "name": "python",
   "nbconvert_exporter": "python",
   "pygments_lexer": "ipython3",
   "version": "3.8.12"
  },
  "toc": {
   "base_numbering": 1,
   "nav_menu": {},
   "number_sections": true,
   "sideBar": true,
   "skip_h1_title": false,
   "title_cell": "Table of Contents",
   "title_sidebar": "Contents",
   "toc_cell": false,
   "toc_position": {},
   "toc_section_display": true,
   "toc_window_display": false
  }
 },
 "nbformat": 4,
 "nbformat_minor": 5
}
