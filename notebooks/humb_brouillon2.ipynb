{
 "cells": [
  {
   "cell_type": "code",
   "execution_count": 19,
   "id": "57005ba8",
   "metadata": {},
   "outputs": [],
   "source": [
    "import tensorflow as tf\n",
    "\n",
    "from tensorflow_examples.models.pix2pix import pix2pix\n",
    "\n",
    "from paittern.contouring import data\n",
    "import matplotlib.pyplot as plt\n",
    "import numpy as np\n",
    "from glob import glob\n",
    "import cv2"
   ]
  },
  {
   "cell_type": "code",
   "execution_count": 6,
   "id": "3a64705d",
   "metadata": {},
   "outputs": [],
   "source": [
    "import os"
   ]
  },
  {
   "cell_type": "code",
   "execution_count": 3,
   "id": "32d7e46a",
   "metadata": {},
   "outputs": [],
   "source": [
    "path_to_file = \"../raw_data/people_segmentation\"\n",
    "X,Y = data.get_XY(path_to_file)"
   ]
  },
  {
   "cell_type": "code",
   "execution_count": null,
   "id": "286a185c",
   "metadata": {},
   "outputs": [],
   "source": [
    "#%%time\n",
    "#X_train, y_train, X_test, y_test = data.copy_split_data(X, Y, path='data2/')"
   ]
  },
  {
   "cell_type": "code",
   "execution_count": 20,
   "id": "1c2eb3a3",
   "metadata": {},
   "outputs": [],
   "source": [
    "X_train = [cv2.imread(filename) for filename in sorted(glob(os.path.join(\"data2\",\"train\",\"X\",\"*.png\")))]"
   ]
  },
  {
   "cell_type": "code",
   "execution_count": 23,
   "id": "bed1e9ca",
   "metadata": {},
   "outputs": [],
   "source": [
    "y_train = [cv2.imread(filename) for filename in sorted(glob(os.path.join(\"data2\",\"train\",\"y\",\"*.png\")))]"
   ]
  },
  {
   "cell_type": "code",
   "execution_count": 25,
   "id": "61742cfa",
   "metadata": {},
   "outputs": [
    {
     "data": {
      "text/plain": [
       "array([  0, 255], dtype=uint8)"
      ]
     },
     "execution_count": 25,
     "metadata": {},
     "output_type": "execute_result"
    }
   ],
   "source": [
    "np.unique(y_train[3])"
   ]
  },
  {
   "cell_type": "code",
   "execution_count": 26,
   "id": "d7d60d5f",
   "metadata": {},
   "outputs": [],
   "source": [
    "new_X, new_y = data.resized_images(X_train, y_train, (128,128))"
   ]
  },
  {
   "cell_type": "code",
   "execution_count": 27,
   "id": "ed151a8b",
   "metadata": {},
   "outputs": [],
   "source": [
    "new_X = np.array(new_X)\n",
    "new_y = np.array(new_y)"
   ]
  },
  {
   "cell_type": "code",
   "execution_count": 28,
   "id": "34062ad3",
   "metadata": {},
   "outputs": [],
   "source": [
    "new_y2 = new_y.mean(axis=3)\n",
    "\n",
    "new_y2 = np.expand_dims(new_y2, axis = -1)\n",
    "\n",
    "new_y2 = new_y2/255"
   ]
  },
  {
   "cell_type": "code",
   "execution_count": 29,
   "id": "55bf4b55",
   "metadata": {
    "scrolled": true
   },
   "outputs": [
    {
     "data": {
      "text/plain": [
       "((4542, 128, 128, 3), (4542, 128, 128, 1))"
      ]
     },
     "execution_count": 29,
     "metadata": {},
     "output_type": "execute_result"
    }
   ],
   "source": [
    "new_X.shape, new_y2.shape"
   ]
  },
  {
   "cell_type": "code",
   "execution_count": null,
   "id": "c9456694",
   "metadata": {},
   "outputs": [],
   "source": [
    "def plot_img_mask(number):\n",
    "    fig, [ax1, ax2] = plt.subplots(nrows=1, ncols=2)\n",
    "    ax1.imshow(new_X[number])\n",
    "    ax2.imshow(new_y[number])\n",
    "    plt.show()"
   ]
  },
  {
   "cell_type": "code",
   "execution_count": 30,
   "id": "e3eca821",
   "metadata": {},
   "outputs": [
    {
     "name": "stderr",
     "output_type": "stream",
     "text": [
      "2022-03-01 17:41:19.451054: I tensorflow/core/platform/cpu_feature_guard.cc:151] This TensorFlow binary is optimized with oneAPI Deep Neural Network Library (oneDNN) to use the following CPU instructions in performance-critical operations:  AVX2 FMA\n",
      "To enable them in other operations, rebuild TensorFlow with the appropriate compiler flags.\n"
     ]
    }
   ],
   "source": [
    "base_model = tf.keras.applications.MobileNetV2(input_shape=[128, 128, 3], include_top=False)\n",
    "\n",
    "# Use the activations of these layers\n",
    "layer_names = [\n",
    "    'block_1_expand_relu',   # 64x64\n",
    "    'block_3_expand_relu',   # 32x32\n",
    "    'block_6_expand_relu',   # 16x16\n",
    "    'block_13_expand_relu',  # 8x8\n",
    "    'block_16_project',      # 4x4\n",
    "]\n",
    "base_model_outputs = [base_model.get_layer(name).output for name in layer_names]\n",
    "\n",
    "# Create the feature extraction model\n",
    "down_stack = tf.keras.Model(inputs=base_model.input, outputs=base_model_outputs)\n",
    "\n",
    "down_stack.trainable = False"
   ]
  },
  {
   "cell_type": "code",
   "execution_count": 31,
   "id": "c4d07377",
   "metadata": {},
   "outputs": [],
   "source": [
    "up_stack = [\n",
    "    pix2pix.upsample(512, 3),  # 4x4 -> 8x8\n",
    "    pix2pix.upsample(256, 3),  # 8x8 -> 16x16\n",
    "    pix2pix.upsample(128, 3),  # 16x16 -> 32x32\n",
    "    pix2pix.upsample(64, 3),   # 32x32 -> 64x64\n",
    "]"
   ]
  },
  {
   "cell_type": "code",
   "execution_count": 32,
   "id": "c69ddb1e",
   "metadata": {},
   "outputs": [],
   "source": [
    "def create_mask(pred_mask):\n",
    "    pred_mask = tf.argmax(pred_mask, axis=-1)\n",
    "    pred_mask = pred_mask[..., tf.newaxis]\n",
    "    return pred_mask[0]"
   ]
  },
  {
   "cell_type": "code",
   "execution_count": 33,
   "id": "71b7d204",
   "metadata": {},
   "outputs": [],
   "source": [
    "def show_predictions(X, y):\n",
    "    for image, mask in zip(X,y):\n",
    "        image = np.expand_dims(image, axis = 0)\n",
    "        pred_mask = model.predict(image)\n",
    "    fig, [ax1, ax2, ax3] = plt.subplots(3,1)\n",
    "    ax1.imshow(image[0])\n",
    "    ax2.imshow(mask[0])\n",
    "    ax3.imshow(create_mask(pred_mask))"
   ]
  },
  {
   "cell_type": "code",
   "execution_count": 34,
   "id": "6fd7fe15",
   "metadata": {},
   "outputs": [],
   "source": [
    "def unet_model(output_channels:int):\n",
    "    inputs = tf.keras.layers.Input(shape=[128, 128, 3])\n",
    "\n",
    "    # Downsampling through the model\n",
    "    skips = down_stack(inputs)\n",
    "    x = skips[-1]\n",
    "    skips = reversed(skips[:-1])\n",
    "\n",
    "    # Upsampling and establishing the skip connections\n",
    "    for up, skip in zip(up_stack, skips):\n",
    "        x = up(x)\n",
    "        concat = tf.keras.layers.Concatenate()\n",
    "        x = concat([x, skip])\n",
    "\n",
    "    # This is the last layer of the model\n",
    "    last = tf.keras.layers.Conv2DTranspose(\n",
    "      filters=output_channels, kernel_size=3, strides=2,\n",
    "      padding='same')  #64x64 -> 128x128\n",
    "\n",
    "    x = last(x)\n",
    "\n",
    "    return tf.keras.Model(inputs=inputs, outputs=x)"
   ]
  },
  {
   "cell_type": "code",
   "execution_count": 35,
   "id": "35c492ba",
   "metadata": {},
   "outputs": [],
   "source": [
    "OUTPUT_CLASSES = 3\n",
    "\n",
    "model = unet_model(output_channels=OUTPUT_CLASSES)\n",
    "model.compile(optimizer='adam',\n",
    "              loss=tf.keras.losses.SparseCategoricalCrossentropy(from_logits=True),\n",
    "              metrics=['accuracy'])"
   ]
  },
  {
   "cell_type": "code",
   "execution_count": 36,
   "id": "ea1b9ad0",
   "metadata": {
    "scrolled": true
   },
   "outputs": [
    {
     "name": "stdout",
     "output_type": "stream",
     "text": [
      "Epoch 1/20\n",
      "114/114 [==============================] - 116s 998ms/step - loss: 0.4396 - accuracy: 0.7999 - val_loss: 1.3482 - val_accuracy: 0.5045\n",
      "Epoch 2/20\n",
      "114/114 [==============================] - 109s 953ms/step - loss: 0.3585 - accuracy: 0.8385 - val_loss: 0.4160 - val_accuracy: 0.8058\n",
      "Epoch 3/20\n",
      "114/114 [==============================] - 104s 916ms/step - loss: 0.3449 - accuracy: 0.8454 - val_loss: 0.3736 - val_accuracy: 0.8298\n",
      "Epoch 4/20\n",
      "114/114 [==============================] - 103s 909ms/step - loss: 0.3334 - accuracy: 0.8517 - val_loss: 0.3561 - val_accuracy: 0.8401\n",
      "Epoch 5/20\n",
      "114/114 [==============================] - 103s 904ms/step - loss: 0.3263 - accuracy: 0.8547 - val_loss: 0.3700 - val_accuracy: 0.8295\n",
      "Epoch 6/20\n",
      "114/114 [==============================] - 103s 899ms/step - loss: 0.3207 - accuracy: 0.8578 - val_loss: 0.3567 - val_accuracy: 0.8407\n",
      "Epoch 7/20\n",
      "114/114 [==============================] - 101s 891ms/step - loss: 0.3139 - accuracy: 0.8607 - val_loss: 0.3492 - val_accuracy: 0.8470\n",
      "Epoch 8/20\n",
      "114/114 [==============================] - 103s 901ms/step - loss: 0.3046 - accuracy: 0.8661 - val_loss: 0.3462 - val_accuracy: 0.8465\n",
      "Epoch 9/20\n",
      "114/114 [==============================] - 101s 888ms/step - loss: 0.3011 - accuracy: 0.8677 - val_loss: 0.3493 - val_accuracy: 0.8458\n",
      "Epoch 10/20\n",
      "114/114 [==============================] - 100s 876ms/step - loss: 0.2997 - accuracy: 0.8677 - val_loss: 0.3831 - val_accuracy: 0.8415\n",
      "Epoch 11/20\n",
      "114/114 [==============================] - 100s 882ms/step - loss: 0.2917 - accuracy: 0.8718 - val_loss: 0.3447 - val_accuracy: 0.8474\n",
      "Epoch 12/20\n",
      "114/114 [==============================] - 101s 889ms/step - loss: 0.2837 - accuracy: 0.8759 - val_loss: 0.3554 - val_accuracy: 0.8499\n",
      "Epoch 13/20\n",
      "114/114 [==============================] - 101s 884ms/step - loss: 0.2802 - accuracy: 0.8775 - val_loss: 0.3452 - val_accuracy: 0.8534\n",
      "Epoch 14/20\n",
      "114/114 [==============================] - 100s 877ms/step - loss: 0.2742 - accuracy: 0.8804 - val_loss: 0.3538 - val_accuracy: 0.8422\n",
      "Epoch 15/20\n",
      "114/114 [==============================] - 100s 875ms/step - loss: 0.2684 - accuracy: 0.8830 - val_loss: 0.3828 - val_accuracy: 0.8503\n",
      "Epoch 16/20\n",
      "114/114 [==============================] - 100s 875ms/step - loss: 0.2639 - accuracy: 0.8856 - val_loss: 0.3711 - val_accuracy: 0.8514\n",
      "Epoch 17/20\n",
      "114/114 [==============================] - 100s 878ms/step - loss: 0.2611 - accuracy: 0.8866 - val_loss: 0.3660 - val_accuracy: 0.8518\n",
      "Epoch 18/20\n",
      "114/114 [==============================] - 100s 875ms/step - loss: 0.2545 - accuracy: 0.8899 - val_loss: 0.3750 - val_accuracy: 0.8486\n",
      "Epoch 19/20\n",
      "114/114 [==============================] - 100s 880ms/step - loss: 0.2474 - accuracy: 0.8931 - val_loss: 0.3835 - val_accuracy: 0.8494\n",
      "Epoch 20/20\n",
      "114/114 [==============================] - 100s 876ms/step - loss: 0.2409 - accuracy: 0.8959 - val_loss: 0.4141 - val_accuracy: 0.8424\n"
     ]
    }
   ],
   "source": [
    "EPOCHS = 20\n",
    "VAL_SUBSPLITS = 5\n",
    "\n",
    "model_history = model.fit(new_X, new_y2, \n",
    "                          epochs=EPOCHS,\n",
    "                          validation_split=0.2, verbose = 1)"
   ]
  },
  {
   "cell_type": "code",
   "execution_count": 55,
   "id": "f2d84609",
   "metadata": {},
   "outputs": [
    {
     "data": {
      "text/plain": [
       "<matplotlib.image.AxesImage at 0x15eafd3d0>"
      ]
     },
     "execution_count": 55,
     "metadata": {},
     "output_type": "execute_result"
    },
    {
     "data": {
      "image/png": "[encoded data removed]",
      "text/plain": [
       "<Figure size 432x288 with 1 Axes>"
      ]
     },
     "metadata": {
      "needs_background": "light"
     },
     "output_type": "display_data"
    }
   ],
   "source": [
    "k=1\n",
    "to_test = np.expand_dims(new_X[k], axis=0)\n",
    "y_pred = model.predict(to_test)\n",
    "\n",
    "plt.imshow(new_X[k])"
   ]
  },
  {
   "cell_type": "code",
   "execution_count": 56,
   "id": "c03a520e",
   "metadata": {
    "scrolled": true
   },
   "outputs": [
    {
     "data": {
      "text/plain": [
       "<matplotlib.image.AxesImage at 0x15eb49760>"
      ]
     },
     "execution_count": 56,
     "metadata": {},
     "output_type": "execute_result"
    },
    {
     "data": {
      "image/png": "[encoded data removed]",
      "text/plain": [
       "<Figure size 432x288 with 1 Axes>"
      ]
     },
     "metadata": {
      "needs_background": "light"
     },
     "output_type": "display_data"
    }
   ],
   "source": [
    "plt.imshow(create_mask(y_pred))"
   ]
  },
  {
   "cell_type": "code",
   "execution_count": null,
   "id": "f64d8f96",
   "metadata": {},
   "outputs": [],
   "source": []
  }
 ],
 "metadata": {
  "kernelspec": {
   "display_name": "Python 3 (ipykernel)",
   "language": "python",
   "name": "python3"
  },
  "language_info": {
   "codemirror_mode": {
    "name": "ipython",
    "version": 3
   },
   "file_extension": ".py",
   "mimetype": "text/x-python",
   "name": "python",
   "nbconvert_exporter": "python",
   "pygments_lexer": "ipython3",
   "version": "3.8.12"
  },
  "toc": {
   "base_numbering": 1,
   "nav_menu": {},
   "number_sections": true,
   "sideBar": true,
   "skip_h1_title": false,
   "title_cell": "Table of Contents",
   "title_sidebar": "Contents",
   "toc_cell": false,
   "toc_position": {},
   "toc_section_display": true,
   "toc_window_display": false
  }
 },
 "nbformat": 4,
 "nbformat_minor": 5
}
