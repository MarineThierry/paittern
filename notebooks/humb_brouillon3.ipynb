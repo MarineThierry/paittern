{
 "cells": [
  {
   "cell_type": "code",
   "execution_count": 1,
   "id": "8ab21fa7",
   "metadata": {},
   "outputs": [],
   "source": [
    "%load_ext autoreload\n",
    "%autoreload 2"
   ]
  },
  {
   "cell_type": "code",
   "execution_count": 2,
   "id": "61623b5f",
   "metadata": {},
   "outputs": [],
   "source": [
    "import sys"
   ]
  },
  {
   "cell_type": "code",
   "execution_count": 3,
   "id": "e2715af4",
   "metadata": {},
   "outputs": [],
   "source": [
    "from paittern.contouring import trainer2, model"
   ]
  },
  {
   "cell_type": "code",
   "execution_count": 4,
   "id": "d90e32e6",
   "metadata": {},
   "outputs": [],
   "source": [
    "BUCKET_NAME='wagon-bootcamp-paittern'"
   ]
  },
  {
   "cell_type": "code",
   "execution_count": 5,
   "id": "f3f2603c",
   "metadata": {},
   "outputs": [
    {
     "name": "stdout",
     "output_type": "stream",
     "text": [
      "get_data réalisé\n",
      "Création d'un validation set\n"
     ]
    }
   ],
   "source": [
    "X_train = trainer2.get_data('image', BUCKET_NAME)\n",
    "Y_train = trainer2.get_data('mask', BUCKET_NAME) \n",
    "print(\"get_data réalisé\")\n",
    "n = 200\n",
    "X_train = trainer2.load_data(X_train, n, BUCKET_NAME, 3)\n",
    "y_train = trainer2.load_data(Y_train, n, BUCKET_NAME, 0)\n",
    "#print(X_train.shape, y_train.shape)\n",
    "\n",
    "print(\"Création d'un validation set\")\n",
    "X_val = X_train[round(0.8*n):]\n",
    "y_val = y_train[round(0.8*n):]\n",
    "\n",
    "X_train = X_train[:round(0.8*n)]\n",
    "y_train = y_train[:round(0.8*n)]"
   ]
  },
  {
   "cell_type": "code",
   "execution_count": 6,
   "id": "7fdeac7d",
   "metadata": {},
   "outputs": [],
   "source": [
    "memroy_used = sys.getsizeof(X_train)+sys.getsizeof(Y_train)+sys.getsizeof(y_train)+sys.getsizeof(X_val)+sys.getsizeof(y_val)\n",
    "\n"
   ]
  },
  {
   "cell_type": "code",
   "execution_count": 7,
   "id": "5dadb4e9",
   "metadata": {},
   "outputs": [
    {
     "data": {
      "text/plain": [
       "0.0026649056603773587"
      ]
     },
     "execution_count": 7,
     "metadata": {},
     "output_type": "execute_result"
    }
   ],
   "source": [
    "memroy_used/95400000"
   ]
  },
  {
   "cell_type": "code",
   "execution_count": 8,
   "id": "5b56d4aa",
   "metadata": {},
   "outputs": [
    {
     "data": {
      "text/plain": [
       "dtype('uint8')"
      ]
     },
     "execution_count": 8,
     "metadata": {},
     "output_type": "execute_result"
    }
   ],
   "source": [
    "X_train.dtype"
   ]
  },
  {
   "cell_type": "code",
   "execution_count": 9,
   "id": "a71c7330",
   "metadata": {},
   "outputs": [
    {
     "data": {
      "text/plain": [
       "dtype('uint8')"
      ]
     },
     "execution_count": 9,
     "metadata": {},
     "output_type": "execute_result"
    }
   ],
   "source": [
    "y_train.dtype"
   ]
  },
  {
   "cell_type": "code",
   "execution_count": 10,
   "id": "39042415",
   "metadata": {},
   "outputs": [],
   "source": [
    "model2 = model.deeplabv3_plus((512,512,3))"
   ]
  },
  {
   "cell_type": "code",
   "execution_count": 11,
   "id": "6120f476",
   "metadata": {},
   "outputs": [],
   "source": [
    "from tensorflow.keras.optimizers import Adam\n",
    "from tensorflow.keras.metrics import Recall, Precision"
   ]
  },
  {
   "cell_type": "code",
   "execution_count": 12,
   "id": "d94f37ce",
   "metadata": {},
   "outputs": [],
   "source": [
    "lr = 0.1"
   ]
  },
  {
   "cell_type": "code",
   "execution_count": 13,
   "id": "84df6dc8",
   "metadata": {},
   "outputs": [
    {
     "name": "stdout",
     "output_type": "stream",
     "text": [
      "Segmentation Models: using `keras` framework.\n"
     ]
    }
   ],
   "source": [
    "from segmentation_models import Unet\n",
    "from segmentation_models import get_preprocessing\n",
    "from segmentation_models.losses import bce_jaccard_loss"
   ]
  },
  {
   "cell_type": "code",
   "execution_count": 14,
   "id": "9ed646f1",
   "metadata": {},
   "outputs": [],
   "source": [
    "model2.compile('Adam', loss=bce_jaccard_loss, metrics=Precision())"
   ]
  },
  {
   "cell_type": "code",
   "execution_count": 15,
   "id": "12b78d46",
   "metadata": {},
   "outputs": [],
   "source": [
    "X_train = X_train.astype('float32')\n",
    "y_train = y_train.astype('float32')\n",
    "X_val = X_val.astype('float32')\n",
    "y_val = y_val.astype('float32')"
   ]
  },
  {
   "cell_type": "code",
   "execution_count": 16,
   "id": "3a5b4106",
   "metadata": {},
   "outputs": [
    {
     "name": "stdout",
     "output_type": "stream",
     "text": [
      "Epoch 1/10\n",
      "5/5 [==============================] - 931s 184s/step - loss: 1.0916 - precision: 0.7390 - val_loss: 3.0090 - val_precision: 0.9295\n",
      "Epoch 2/10\n",
      "5/5 [==============================] - 891s 175s/step - loss: 0.3756 - precision: 0.9227 - val_loss: 10.1973 - val_precision: 0.9994\n",
      "Epoch 3/10\n",
      "5/5 [==============================] - 863s 175s/step - loss: 0.2344 - precision: 0.9445 - val_loss: 10.4318 - val_precision: 0.0000e+00\n",
      "Epoch 4/10\n",
      "5/5 [==============================] - 884s 178s/step - loss: 0.1796 - precision: 0.9666 - val_loss: 10.0064 - val_precision: 0.7726\n",
      "Epoch 5/10\n",
      "5/5 [==============================] - 880s 178s/step - loss: 0.1791 - precision: 0.9687 - val_loss: 7.4754 - val_precision: 0.7571\n",
      "Epoch 6/10\n",
      "5/5 [==============================] - 870s 176s/step - loss: 0.1551 - precision: 0.9677 - val_loss: 2.2180 - val_precision: 0.7814\n",
      "Epoch 7/10\n",
      "5/5 [==============================] - 874s 177s/step - loss: 0.1192 - precision: 0.9762 - val_loss: 2.6645 - val_precision: 0.6732\n",
      "Epoch 8/10\n",
      "5/5 [==============================] - 856s 175s/step - loss: 0.0967 - precision: 0.9852 - val_loss: 2.1891 - val_precision: 0.6900\n",
      "Epoch 9/10\n",
      "5/5 [==============================] - 857s 171s/step - loss: 0.0785 - precision: 0.9855 - val_loss: 1.8026 - val_precision: 0.7009\n",
      "Epoch 10/10\n",
      "5/5 [==============================] - 830s 170s/step - loss: 0.0635 - precision: 0.9889 - val_loss: 1.7397 - val_precision: 0.6839\n"
     ]
    },
    {
     "data": {
      "text/plain": [
       "<keras.callbacks.History at 0x142a69dc0>"
      ]
     },
     "execution_count": 16,
     "metadata": {},
     "output_type": "execute_result"
    }
   ],
   "source": [
    "model2.fit(X_train, y_train,\n",
    "          epochs=10,\n",
    "          validation_data = (X_val, y_val),\n",
    "          )"
   ]
  },
  {
   "cell_type": "code",
   "execution_count": 18,
   "id": "c32a2429",
   "metadata": {},
   "outputs": [],
   "source": [
    "import joblib"
   ]
  },
  {
   "cell_type": "code",
   "execution_count": 22,
   "id": "c21a3e8b",
   "metadata": {},
   "outputs": [
    {
     "name": "stdout",
     "output_type": "stream",
     "text": [
      "INFO:tensorflow:Assets written to: ram://aabc84f0-1309-4acd-a61e-c188e85418de/assets\n"
     ]
    },
    {
     "data": {
      "text/plain": [
       "['my_trained_model.joblib']"
      ]
     },
     "execution_count": 22,
     "metadata": {},
     "output_type": "execute_result"
    }
   ],
   "source": [
    "joblib.dump(model2, 'my_trained_model.joblib')"
   ]
  },
  {
   "cell_type": "code",
   "execution_count": null,
   "id": "7ff5a787",
   "metadata": {},
   "outputs": [],
   "source": []
  }
 ],
 "metadata": {
  "kernelspec": {
   "display_name": "Python 3 (ipykernel)",
   "language": "python",
   "name": "python3"
  },
  "language_info": {
   "codemirror_mode": {
    "name": "ipython",
    "version": 3
   },
   "file_extension": ".py",
   "mimetype": "text/x-python",
   "name": "python",
   "nbconvert_exporter": "python",
   "pygments_lexer": "ipython3",
   "version": "3.8.12"
  },
  "toc": {
   "base_numbering": 1,
   "nav_menu": {},
   "number_sections": true,
   "sideBar": true,
   "skip_h1_title": false,
   "title_cell": "Table of Contents",
   "title_sidebar": "Contents",
   "toc_cell": false,
   "toc_position": {},
   "toc_section_display": true,
   "toc_window_display": false
  }
 },
 "nbformat": 4,
 "nbformat_minor": 5
}
